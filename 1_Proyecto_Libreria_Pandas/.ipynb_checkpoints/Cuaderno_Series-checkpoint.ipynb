{
 "cells": [
  {
   "cell_type": "markdown",
   "id": "7cfe819f-198e-43a2-a6ce-5f1d518ec193",
   "metadata": {},
   "source": [
    "**Importación de librerias**"
   ]
  },
  {
   "cell_type": "code",
   "execution_count": 1,
   "id": "e0fd10a0-6908-4ed3-bcd6-7e55bc0bd3b4",
   "metadata": {},
   "outputs": [
    {
     "name": "stdout",
     "output_type": "stream",
     "text": [
      "Versión instalada de pandas = 2.2.2\n",
      "Versión instalada de numpy = 1.26.4\n"
     ]
    }
   ],
   "source": [
    "import pandas as pd\n",
    "import numpy as np\n",
    "\n",
    "print(F\"Versión instalada de pandas = {pd.__version__}\")\n",
    "print(F\"Versión instalada de numpy = {np.__version__}\")"
   ]
  },
  {
   "cell_type": "markdown",
   "id": "dbf6e7c8-a0a8-47bb-ad1b-ef11284ee320",
   "metadata": {},
   "source": [
    "### Series en Pandas"
   ]
  },
  {
   "cell_type": "markdown",
   "id": "2857b937-604f-4b73-86d9-2a80e9b6d5d9",
   "metadata": {},
   "source": [
    "Una Series es una estructura de datos unidimensional con índices etiquetados. Es como una columna de una tabla o un array con etiquetas."
   ]
  },
  {
   "cell_type": "code",
   "execution_count": 2,
   "id": "61af7970-9032-481b-82ed-c257247fe92c",
   "metadata": {},
   "outputs": [
    {
     "name": "stdout",
     "output_type": "stream",
     "text": [
      "Serie desde lista:\n",
      "0    10\n",
      "1    20\n",
      "2    30\n",
      "3    40\n",
      "4    50\n",
      "dtype: int64\n",
      "\n"
     ]
    }
   ],
   "source": [
    "# Crear Series desde una lista\n",
    "serie_numeros = pd.Series([10, 20, 30, 40, 50])\n",
    "print(\"Serie desde lista:\")\n",
    "print(serie_numeros)\n",
    "print()"
   ]
  },
  {
   "cell_type": "code",
   "execution_count": 3,
   "id": "2e9062d5-8292-4ca1-81d2-fa01138f6de5",
   "metadata": {},
   "outputs": [
    {
     "name": "stdout",
     "output_type": "stream",
     "text": [
      "Serie con índices personalizados:\n",
      "manzanas    5\n",
      "naranjas    3\n",
      "plátanos    8\n",
      "uvas        2\n",
      "dtype: int64\n",
      "\n"
     ]
    }
   ],
   "source": [
    "# Crear Series con índices personalizados\n",
    "serie_frutas = pd.Series([5, 3, 8, 2], index=['manzanas', 'naranjas', 'plátanos', 'uvas'])\n",
    "print(\"Serie con índices personalizados:\")\n",
    "print(serie_frutas)\n",
    "print()"
   ]
  },
  {
   "cell_type": "code",
   "execution_count": 4,
   "id": "8b111fe9-e54c-4e02-8b9d-0b4f3ce105f8",
   "metadata": {},
   "outputs": [
    {
     "name": "stdout",
     "output_type": "stream",
     "text": [
      "Serie desde diccionario:\n",
      "enero      1000\n",
      "febrero    1200\n",
      "marzo       900\n",
      "abril      1500\n",
      "dtype: int64\n",
      "\n"
     ]
    }
   ],
   "source": [
    "# Crear Series desde un diccionario\n",
    "ventas = {'enero': 1000, 'febrero': 1200, 'marzo': 900, 'abril': 1500}\n",
    "serie_ventas = pd.Series(ventas)\n",
    "print(\"Serie desde diccionario:\")\n",
    "print(serie_ventas)\n",
    "print()"
   ]
  },
  {
   "cell_type": "markdown",
   "id": "2af26232-5ae7-4224-be78-8dd148c988bc",
   "metadata": {},
   "source": [
    "**Acceso a elementos de una series**"
   ]
  },
  {
   "cell_type": "code",
   "execution_count": 5,
   "id": "3beddd75-16af-4117-9f11-d0a76d6a9773",
   "metadata": {},
   "outputs": [
    {
     "name": "stdout",
     "output_type": "stream",
     "text": [
      "Primer elemento: 10\n",
      "Último elemento: 50\n",
      "\n",
      "Ventas de marzo: 900\n",
      "Cantidad de manzanas: 5\n",
      "\n",
      "Primeros 3 elementos:\n",
      "0    10\n",
      "1    20\n",
      "2    30\n",
      "dtype: int64\n",
      "\n",
      "Ventas de enero y abril:\n",
      "enero    1000\n",
      "abril    1500\n",
      "dtype: int64\n",
      "\n"
     ]
    }
   ],
   "source": [
    "# Acceso por índice posicional\n",
    "print(\"Primer elemento:\", serie_numeros[0])\n",
    "print(\"Último elemento:\", serie_numeros.iloc[-1])  # Usar iloc para acceso posicional\n",
    "print()\n",
    "\n",
    "# Acceso por etiqueta de índice\n",
    "print(\"Ventas de marzo:\", serie_ventas['marzo'])\n",
    "print(\"Cantidad de manzanas:\", serie_frutas['manzanas'])\n",
    "print()\n",
    "\n",
    "# Acceso a múltiples elementos\n",
    "print(\"Primeros 3 elementos:\")\n",
    "print(serie_numeros[:3])\n",
    "print()\n",
    "print(\"Ventas de enero y abril:\")\n",
    "print(serie_ventas[['enero', 'abril']])\n",
    "print()"
   ]
  },
  {
   "cell_type": "markdown",
   "id": "1ac1cd61-b3fa-48c8-9733-997bebea727d",
   "metadata": {},
   "source": [
    "**Operaciones básicas con Series**"
   ]
  },
  {
   "cell_type": "code",
   "execution_count": 6,
   "id": "57f6efb4-68a4-4ec2-9cb5-648f376b9a05",
   "metadata": {},
   "outputs": [
    {
     "name": "stdout",
     "output_type": "stream",
     "text": [
      "Serie original:\n",
      "0    10\n",
      "1    20\n",
      "2    30\n",
      "3    40\n",
      "4    50\n",
      "dtype: int64\n",
      "\n",
      "Suma 5 a todos los elementos:\n",
      "0    15\n",
      "1    25\n",
      "2    35\n",
      "3    45\n",
      "4    55\n",
      "dtype: int64\n",
      "\n",
      "Multiplica por 2:\n",
      "0     20\n",
      "1     40\n",
      "2     60\n",
      "3     80\n",
      "4    100\n",
      "dtype: int64\n",
      "\n",
      "Suma total: 150\n",
      "Promedio: 30.0\n",
      "Valor máximo: 50\n",
      "Valor mínimo: 10\n",
      "\n"
     ]
    }
   ],
   "source": [
    "# Operaciones matemáticas\n",
    "print(\"Serie original:\")\n",
    "print(serie_numeros)\n",
    "print(\"\\nSuma 5 a todos los elementos:\")\n",
    "print(serie_numeros + 5)\n",
    "print(\"\\nMultiplica por 2:\")\n",
    "print(serie_numeros * 2)\n",
    "print()\n",
    "\n",
    "# Operaciones estadísticas\n",
    "print(\"Suma total:\", serie_numeros.sum())\n",
    "print(\"Promedio:\", serie_numeros.mean())\n",
    "print(\"Valor máximo:\", serie_numeros.max())\n",
    "print(\"Valor mínimo:\", serie_numeros.min())\n",
    "print()"
   ]
  },
  {
   "cell_type": "markdown",
   "id": "abf5f2d6-cd42-4f9f-99b1-05e3aac7b785",
   "metadata": {},
   "source": [
    "**Filtrado de Series**"
   ]
  },
  {
   "cell_type": "code",
   "execution_count": 7,
   "id": "361715e8-27f8-480b-b5ea-3b282e5d3d43",
   "metadata": {},
   "outputs": [
    {
     "name": "stdout",
     "output_type": "stream",
     "text": [
      "Frutas con más de 4 unidades:\n",
      "manzanas    5\n",
      "plátanos    8\n",
      "dtype: int64\n",
      "\n",
      "Números entre 20 y 40:\n",
      "1    20\n",
      "2    30\n",
      "3    40\n",
      "dtype: int64\n",
      "\n"
     ]
    }
   ],
   "source": [
    "# Filtrar elementos mayores a un valor\n",
    "print(\"Frutas con más de 4 unidades:\")\n",
    "print(serie_frutas[serie_frutas > 4])\n",
    "print()\n",
    "\n",
    "# Filtrar con múltiples condiciones\n",
    "print(\"Números entre 20 y 40:\")\n",
    "print(serie_numeros[(serie_numeros >= 20) & (serie_numeros <= 40)])\n",
    "print()"
   ]
  },
  {
   "cell_type": "markdown",
   "id": "f32b3291-4c8b-407e-8c77-23a730ff5e2e",
   "metadata": {},
   "source": [
    "**Métodos útiles de Series**"
   ]
  },
  {
   "cell_type": "code",
   "execution_count": 8,
   "id": "c3bbfcec-5994-4370-aa63-4106d06c103e",
   "metadata": {},
   "outputs": [
    {
     "name": "stdout",
     "output_type": "stream",
     "text": [
      "Información de la serie:\n",
      "Tamaño: 4\n",
      "Forma: (4,)\n",
      "Índice: ['manzanas', 'naranjas', 'plátanos', 'uvas']\n",
      "Valores: [5, 3, 8, 2]\n",
      "\n",
      "Serie con valores nulos:\n",
      "0    1.0\n",
      "1    2.0\n",
      "2    NaN\n",
      "3    4.0\n",
      "4    5.0\n",
      "dtype: float64\n",
      "¿Hay valores nulos?: True\n",
      "Cantidad de valores nulos: 1\n",
      "\n"
     ]
    }
   ],
   "source": [
    "# Información básica\n",
    "print(\"Información de la serie:\")\n",
    "print(f\"Tamaño: {serie_frutas.size}\")\n",
    "print(f\"Forma: {serie_frutas.shape}\")\n",
    "print(f\"Índice: {list(serie_frutas.index)}\")\n",
    "print(f\"Valores: {list(serie_frutas.values)}\")\n",
    "print()\n",
    "\n",
    "# Verificar valores nulos\n",
    "serie_con_nulos = pd.Series([1, 2, None, 4, 5])\n",
    "print(\"Serie con valores nulos:\")\n",
    "print(serie_con_nulos)\n",
    "print(\"¿Hay valores nulos?:\", serie_con_nulos.isnull().any())\n",
    "print(\"Cantidad de valores nulos:\", serie_con_nulos.isnull().sum())\n",
    "print()"
   ]
  },
  {
   "cell_type": "code",
   "execution_count": null,
   "id": "e60098b6-9226-4bd4-8876-bd5bea765fda",
   "metadata": {},
   "outputs": [],
   "source": []
  }
 ],
 "metadata": {
  "kernelspec": {
   "display_name": "Python 3 (ipykernel)",
   "language": "python",
   "name": "python3"
  },
  "language_info": {
   "codemirror_mode": {
    "name": "ipython",
    "version": 3
   },
   "file_extension": ".py",
   "mimetype": "text/x-python",
   "name": "python",
   "nbconvert_exporter": "python",
   "pygments_lexer": "ipython3",
   "version": "3.12.7"
  }
 },
 "nbformat": 4,
 "nbformat_minor": 5
}
