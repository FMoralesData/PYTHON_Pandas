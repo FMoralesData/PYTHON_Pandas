{
 "cells": [
  {
   "cell_type": "markdown",
   "id": "0f62cbb9-79d8-42f9-917d-df95470b586b",
   "metadata": {},
   "source": [
    "### DataFrame en Pandas"
   ]
  },
  {
   "cell_type": "markdown",
   "id": "b23b4eb3-a52f-4766-b6f8-780341425ec7",
   "metadata": {},
   "source": [
    "Un DataFrame es una estructura de datos bidimensional con filas y columnas etiquetadas. Es como una tabla de Excel o una base de datos."
   ]
  },
  {
   "cell_type": "code",
   "execution_count": 1,
   "id": "e481aaa3-df31-4d31-a20f-81e1d976ceec",
   "metadata": {},
   "outputs": [
    {
     "name": "stdout",
     "output_type": "stream",
     "text": [
      "Versión instalada de pandas = 2.2.2\n",
      "Versión instalada de numpy = 1.26.4\n"
     ]
    }
   ],
   "source": [
    "import pandas as pd\n",
    "import numpy as np\n",
    "\n",
    "print(F\"Versión instalada de pandas = {pd.__version__}\")\n",
    "print(F\"Versión instalada de numpy = {np.__version__}\")"
   ]
  },
  {
   "cell_type": "code",
   "execution_count": 2,
   "id": "7b079529-bbc7-40cb-b6c5-2a626076b638",
   "metadata": {},
   "outputs": [
    {
     "name": "stdout",
     "output_type": "stream",
     "text": [
      "DataFrame desde diccionario:\n",
      "      Nombre  Edad  Calificación        Ciudad\n",
      "0  Francisco    31            91      Santiago\n",
      "1    Danitza    29            85  Puerto Varas\n",
      "2    Isidora    25            87        Osorno\n",
      "3    Nicolás    23            74      Valdivia\n",
      "4      Mateo    13            95        Temuco\n",
      "\n"
     ]
    }
   ],
   "source": [
    "# Crear DataFrame desde un diccionario\n",
    "datos_estudiantes = {\n",
    "    'Nombre': ['Francisco', 'Danitza', 'Isidora', 'Nicolás', 'Mateo'],\n",
    "    'Edad': [31, 29, 25, 23, 13],\n",
    "    'Calificación': [91, 85, 87, 74, 95],\n",
    "    'Ciudad': ['Santiago', 'Puerto Varas', 'Osorno', 'Valdivia', 'Temuco']\n",
    "}\n",
    "df_estudiantes = pd.DataFrame(datos_estudiantes)\n",
    "print(\"DataFrame desde diccionario:\")\n",
    "print(df_estudiantes)\n",
    "print()"
   ]
  },
  {
   "cell_type": "code",
   "execution_count": 3,
   "id": "e8ef1e4a-9839-4bf8-b3a7-57811769fca8",
   "metadata": {},
   "outputs": [
    {
     "name": "stdout",
     "output_type": "stream",
     "text": [
      "DataFrame desde listas:\n",
      "    Nombre  Edad  Salario\n",
      "0  Antonia    25     3000\n",
      "1    Luisa    28     3500\n",
      "2   Carmen    30     4000\n",
      "\n"
     ]
    }
   ],
   "source": [
    "# Crear DataFrame desde listas\n",
    "nombres = ['Antonia', 'Luisa', 'Carmen']\n",
    "edades = [25, 28, 30]\n",
    "salarios = [3000, 3500, 4000]\n",
    "df_empleados = pd.DataFrame({\n",
    "    'Nombre': nombres,\n",
    "    'Edad': edades,\n",
    "    'Salario': salarios\n",
    "})\n",
    "print(\"DataFrame desde listas:\")\n",
    "print(df_empleados)\n",
    "print()"
   ]
  },
  {
   "cell_type": "markdown",
   "id": "8fdc29a5-bd3f-4b72-9038-321c090650ae",
   "metadata": {},
   "source": [
    "**Información básica del DataFrame**"
   ]
  },
  {
   "cell_type": "code",
   "execution_count": 4,
   "id": "002f315e-2cb8-43b9-aaae-88433366b771",
   "metadata": {},
   "outputs": [
    {
     "name": "stdout",
     "output_type": "stream",
     "text": [
      "Información del DataFrame:\n",
      "Forma (filas, columnas): (5, 4)\n",
      "Columnas: ['Nombre', 'Edad', 'Calificación', 'Ciudad']\n",
      "Índice: [0, 1, 2, 3, 4]\n",
      "\n"
     ]
    }
   ],
   "source": [
    "print(\"Información del DataFrame:\")\n",
    "print(f\"Forma (filas, columnas): {df_estudiantes.shape}\")\n",
    "print(f\"Columnas: {list(df_estudiantes.columns)}\")\n",
    "print(f\"Índice: {list(df_estudiantes.index)}\")\n",
    "print()"
   ]
  },
  {
   "cell_type": "code",
   "execution_count": 5,
   "id": "5131efdb-ef0a-4b33-b0e3-1ce802749420",
   "metadata": {},
   "outputs": [
    {
     "name": "stdout",
     "output_type": "stream",
     "text": [
      "Información detallada:\n",
      "<class 'pandas.core.frame.DataFrame'>\n",
      "RangeIndex: 5 entries, 0 to 4\n",
      "Data columns (total 4 columns):\n",
      " #   Column        Non-Null Count  Dtype \n",
      "---  ------        --------------  ----- \n",
      " 0   Nombre        5 non-null      object\n",
      " 1   Edad          5 non-null      int64 \n",
      " 2   Calificación  5 non-null      int64 \n",
      " 3   Ciudad        5 non-null      object\n",
      "dtypes: int64(2), object(2)\n",
      "memory usage: 292.0+ bytes\n",
      "\n",
      "Primeras 3 filas:\n",
      "      Nombre  Edad  Calificación        Ciudad\n",
      "0  Francisco    31            91      Santiago\n",
      "1    Danitza    29            85  Puerto Varas\n",
      "2    Isidora    25            87        Osorno\n",
      "\n",
      "Últimas 2 filas:\n",
      "    Nombre  Edad  Calificación    Ciudad\n",
      "3  Nicolás    23            74  Valdivia\n",
      "4    Mateo    13            95    Temuco\n",
      "\n"
     ]
    }
   ],
   "source": [
    "# Información detallada\n",
    "print(\"Información detallada:\")\n",
    "df_estudiantes.info()\n",
    "print()\n",
    "\n",
    "# Primeras y últimas filas\n",
    "print(\"Primeras 3 filas:\")\n",
    "print(df_estudiantes.head(3))\n",
    "print()\n",
    "print(\"Últimas 2 filas:\")\n",
    "print(df_estudiantes.tail(2))\n",
    "print()"
   ]
  },
  {
   "cell_type": "markdown",
   "id": "88a09905-fcb3-49e5-b117-a1e298b3f794",
   "metadata": {},
   "source": [
    "**Acceso a datos en DataFrame**"
   ]
  },
  {
   "cell_type": "code",
   "execution_count": 6,
   "id": "14b39087-44d1-4755-81ec-46afdf5e2b33",
   "metadata": {},
   "outputs": [
    {
     "name": "stdout",
     "output_type": "stream",
     "text": [
      "Columna 'Nombre':\n",
      "0    Francisco\n",
      "1      Danitza\n",
      "2      Isidora\n",
      "3      Nicolás\n",
      "4        Mateo\n",
      "Name: Nombre, dtype: object\n",
      "<class 'pandas.core.series.Series'>\n",
      "\n"
     ]
    }
   ],
   "source": [
    "# Seleccionar una columna (retorna Series)\n",
    "print(\"Columna 'Nombre':\")\n",
    "print(df_estudiantes['Nombre'])\n",
    "print(type(df_estudiantes['Nombre']))\n",
    "print()"
   ]
  },
  {
   "cell_type": "code",
   "execution_count": 7,
   "id": "7d218fa9-e6f5-4168-afab-921f9b9a038e",
   "metadata": {},
   "outputs": [
    {
     "name": "stdout",
     "output_type": "stream",
     "text": [
      "Columnas 'Nombre' y 'Calificación':\n",
      "      Nombre  Calificación\n",
      "0  Francisco            91\n",
      "1    Danitza            85\n",
      "2    Isidora            87\n",
      "3    Nicolás            74\n",
      "4      Mateo            95\n",
      "\n"
     ]
    }
   ],
   "source": [
    "# Seleccionar múltiples columnas (retorna DataFrame)\n",
    "print(\"Columnas 'Nombre' y 'Calificación':\")\n",
    "print(df_estudiantes[['Nombre', 'Calificación']])\n",
    "print()"
   ]
  },
  {
   "cell_type": "code",
   "execution_count": 8,
   "id": "103340aa-15d2-4742-98b4-6b0d67a3b7e0",
   "metadata": {},
   "outputs": [
    {
     "name": "stdout",
     "output_type": "stream",
     "text": [
      "Primera fila:\n",
      "Nombre          Francisco\n",
      "Edad                   31\n",
      "Calificación           91\n",
      "Ciudad           Santiago\n",
      "Name: 0, dtype: object\n",
      "\n",
      "Filas 1 a 3:\n",
      "    Nombre  Edad  Calificación        Ciudad\n",
      "1  Danitza    29            85  Puerto Varas\n",
      "2  Isidora    25            87        Osorno\n",
      "3  Nicolás    23            74      Valdivia\n",
      "\n"
     ]
    }
   ],
   "source": [
    "# Seleccionar filas por índice\n",
    "print(\"Primera fila:\")\n",
    "print(df_estudiantes.iloc[0])\n",
    "print()\n",
    "print(\"Filas 1 a 3:\")\n",
    "print(df_estudiantes.iloc[1:4])\n",
    "print()"
   ]
  },
  {
   "cell_type": "code",
   "execution_count": 9,
   "id": "bb5281c9-a930-4b1f-9127-c14fe9b6535e",
   "metadata": {},
   "outputs": [
    {
     "name": "stdout",
     "output_type": "stream",
     "text": [
      "Fila con índice 2:\n",
      "Nombre          Isidora\n",
      "Edad                 25\n",
      "Calificación         87\n",
      "Ciudad           Osorno\n",
      "Name: 2, dtype: object\n",
      "\n"
     ]
    }
   ],
   "source": [
    "# Seleccionar por etiqueta con loc\n",
    "print(\"Fila con índice 2:\")\n",
    "print(df_estudiantes.loc[2])\n",
    "print()"
   ]
  },
  {
   "cell_type": "code",
   "execution_count": 10,
   "id": "e7009f26-e1f6-4004-9a1a-545de92ec56c",
   "metadata": {},
   "outputs": [
    {
     "name": "stdout",
     "output_type": "stream",
     "text": [
      "Calificación del primer estudiante: 91\n",
      "Edad de María: 25\n",
      "\n"
     ]
    }
   ],
   "source": [
    "# Seleccionar valor específico\n",
    "print(\"Calificación del primer estudiante:\", df_estudiantes.iloc[0]['Calificación'])\n",
    "print(\"Edad de María:\", df_estudiantes.loc[2, 'Edad'])\n",
    "print()"
   ]
  },
  {
   "cell_type": "markdown",
   "id": "a8f29160-09c2-4558-b25a-ca587dff161d",
   "metadata": {},
   "source": [
    "**Filtrado de DataFrame**"
   ]
  },
  {
   "cell_type": "code",
   "execution_count": 11,
   "id": "47291e3f-edac-4e5f-85c4-5c17f6936476",
   "metadata": {},
   "outputs": [
    {
     "name": "stdout",
     "output_type": "stream",
     "text": [
      "Estudiantes mayores de 20 años:\n",
      "      Nombre  Edad  Calificación        Ciudad\n",
      "0  Francisco    31            91      Santiago\n",
      "1    Danitza    29            85  Puerto Varas\n",
      "2    Isidora    25            87        Osorno\n",
      "3    Nicolás    23            74      Valdivia\n",
      "\n",
      "Estudiantes mayores de 20 años con calificación mayor a 85:\n",
      "      Nombre  Edad  Calificación    Ciudad\n",
      "0  Francisco    31            91  Santiago\n",
      "2    Isidora    25            87    Osorno\n",
      "\n",
      "Estudiantes de Madrid o Barcelona:\n",
      "Empty DataFrame\n",
      "Columns: [Nombre, Edad, Calificación, Ciudad]\n",
      "Index: []\n",
      "\n"
     ]
    }
   ],
   "source": [
    "# Filtrar por condición simple\n",
    "print(\"Estudiantes mayores de 20 años:\")\n",
    "print(df_estudiantes[df_estudiantes['Edad'] > 20])\n",
    "print()\n",
    "\n",
    "# Filtrar por múltiples condiciones\n",
    "print(\"Estudiantes mayores de 20 años con calificación mayor a 85:\")\n",
    "print(df_estudiantes[(df_estudiantes['Edad'] > 20) & (df_estudiantes['Calificación'] > 85)])\n",
    "print()\n",
    "\n",
    "# Filtrar por valores específicos\n",
    "ciudades_interes = ['Madrid', 'Barcelona']\n",
    "print(\"Estudiantes de Madrid o Barcelona:\")\n",
    "print(df_estudiantes[df_estudiantes['Ciudad'].isin(ciudades_interes)])\n",
    "print()"
   ]
  },
  {
   "cell_type": "code",
   "execution_count": 12,
   "id": "1e2b6efd-b0e7-43aa-8c52-75ab5b3ae939",
   "metadata": {},
   "outputs": [
    {
     "name": "stdout",
     "output_type": "stream",
     "text": [
      "DataFrame con nueva columna 'Aprobado':\n",
      "      Nombre  Edad  Calificación        Ciudad  Aprobado\n",
      "0  Francisco    31            91      Santiago      True\n",
      "1    Danitza    29            85  Puerto Varas      True\n",
      "2    Isidora    25            87        Osorno      True\n",
      "3    Nicolás    23            74      Valdivia     False\n",
      "4      Mateo    13            95        Temuco      True\n",
      "\n",
      "Calificaciones normalizadas:\n",
      "      Nombre  Calificación  Calificación_Normalizada\n",
      "0  Francisco            91                      0.91\n",
      "1    Danitza            85                      0.85\n",
      "2    Isidora            87                      0.87\n",
      "3    Nicolás            74                      0.74\n",
      "4      Mateo            95                      0.95\n",
      "\n",
      "DataFrame sin la columna 'Calificación_Normalizada':\n",
      "      Nombre  Edad  Calificación        Ciudad  Aprobado\n",
      "0  Francisco    31            91      Santiago      True\n",
      "1    Danitza    29            85  Puerto Varas      True\n",
      "2    Isidora    25            87        Osorno      True\n",
      "3    Nicolás    23            74      Valdivia     False\n",
      "4      Mateo    13            95        Temuco      True\n",
      "\n"
     ]
    }
   ],
   "source": [
    "# Crear nueva columna\n",
    "df_estudiantes['Aprobado'] = df_estudiantes['Calificación'] >= 80\n",
    "print(\"DataFrame con nueva columna 'Aprobado':\")\n",
    "print(df_estudiantes)\n",
    "print()\n",
    "\n",
    "# Operaciones matemáticas en columnas\n",
    "df_estudiantes['Calificación_Normalizada'] = df_estudiantes['Calificación'] / 100\n",
    "print(\"Calificaciones normalizadas:\")\n",
    "print(df_estudiantes[['Nombre', 'Calificación', 'Calificación_Normalizada']])\n",
    "print()\n",
    "\n",
    "# Eliminar columna\n",
    "df_temp = df_estudiantes.drop('Calificación_Normalizada', axis=1)\n",
    "print(\"DataFrame sin la columna 'Calificación_Normalizada':\")\n",
    "print(df_temp)\n",
    "print()"
   ]
  },
  {
   "cell_type": "markdown",
   "id": "4dbc6c38-0e59-4f5a-bbdf-f556fb6e8230",
   "metadata": {},
   "source": [
    "**Estadísticas descriptivas**"
   ]
  },
  {
   "cell_type": "code",
   "execution_count": 13,
   "id": "9eab2855-2f2f-4931-892c-002c08f3b4cf",
   "metadata": {},
   "outputs": [
    {
     "name": "stdout",
     "output_type": "stream",
     "text": [
      "Estadísticas descriptivas:\n",
      "            Edad  Calificación  Calificación_Normalizada\n",
      "count   5.000000      5.000000                  5.000000\n",
      "mean   24.200000     86.400000                  0.864000\n",
      "std     7.014271      7.924645                  0.079246\n",
      "min    13.000000     74.000000                  0.740000\n",
      "25%    23.000000     85.000000                  0.850000\n",
      "50%    25.000000     87.000000                  0.870000\n",
      "75%    29.000000     91.000000                  0.910000\n",
      "max    31.000000     95.000000                  0.950000\n",
      "\n",
      "Promedio de calificaciones: 86.4\n",
      "Edad máxima: 31\n",
      "Edad mínima: 13\n",
      "\n"
     ]
    }
   ],
   "source": [
    "print(\"Estadísticas descriptivas:\")\n",
    "print(df_estudiantes.describe())\n",
    "print()\n",
    "\n",
    "# Estadísticas por columna\n",
    "print(\"Promedio de calificaciones:\", df_estudiantes['Calificación'].mean())\n",
    "print(\"Edad máxima:\", df_estudiantes['Edad'].max())\n",
    "print(\"Edad mínima:\", df_estudiantes['Edad'].min())\n",
    "print()"
   ]
  },
  {
   "cell_type": "markdown",
   "id": "a3fb7052-41cb-4b33-bb79-6016d71601f0",
   "metadata": {},
   "source": [
    "**Agrupación de datos**"
   ]
  },
  {
   "cell_type": "code",
   "execution_count": 14,
   "id": "0335e167-34a9-41ab-b5a7-0cfd159cb3d8",
   "metadata": {},
   "outputs": [
    {
     "name": "stdout",
     "output_type": "stream",
     "text": [
      "Promedio de calificación por ciudad:\n",
      "Ciudad\n",
      "Osorno          87.0\n",
      "Puerto Varas    85.0\n",
      "Santiago        91.0\n",
      "Temuco          95.0\n",
      "Valdivia        74.0\n",
      "Name: Calificación, dtype: float64\n",
      "\n",
      "Estadísticas por estado de aprobación:\n",
      "          Edad Calificación      \n",
      "          mean         mean count\n",
      "Aprobado                         \n",
      "False     23.0         74.0     1\n",
      "True      24.5         89.5     4\n",
      "\n"
     ]
    }
   ],
   "source": [
    "print(\"Promedio de calificación por ciudad:\")\n",
    "print(df_estudiantes.groupby('Ciudad')['Calificación'].mean())\n",
    "print()\n",
    "\n",
    "print(\"Estadísticas por estado de aprobación:\")\n",
    "print(df_estudiantes.groupby('Aprobado').agg({\n",
    "    'Edad': 'mean',\n",
    "    'Calificación': ['mean', 'count']\n",
    "}))\n",
    "print()"
   ]
  },
  {
   "cell_type": "markdown",
   "id": "500e50fb-7276-4ac7-a278-b40116421a01",
   "metadata": {},
   "source": [
    "**Ordenamiento**"
   ]
  },
  {
   "cell_type": "code",
   "execution_count": 15,
   "id": "028af0d3-7c23-4c02-bf4f-ebb5b21299a3",
   "metadata": {},
   "outputs": [
    {
     "name": "stdout",
     "output_type": "stream",
     "text": [
      "Ordenar por calificación (ascendente):\n",
      "      Nombre  Edad  Calificación        Ciudad  Aprobado  \\\n",
      "3    Nicolás    23            74      Valdivia     False   \n",
      "1    Danitza    29            85  Puerto Varas      True   \n",
      "2    Isidora    25            87        Osorno      True   \n",
      "0  Francisco    31            91      Santiago      True   \n",
      "4      Mateo    13            95        Temuco      True   \n",
      "\n",
      "   Calificación_Normalizada  \n",
      "3                      0.74  \n",
      "1                      0.85  \n",
      "2                      0.87  \n",
      "0                      0.91  \n",
      "4                      0.95  \n",
      "\n",
      "Ordenar por edad (descendente):\n",
      "      Nombre  Edad  Calificación        Ciudad  Aprobado  \\\n",
      "0  Francisco    31            91      Santiago      True   \n",
      "1    Danitza    29            85  Puerto Varas      True   \n",
      "2    Isidora    25            87        Osorno      True   \n",
      "3    Nicolás    23            74      Valdivia     False   \n",
      "4      Mateo    13            95        Temuco      True   \n",
      "\n",
      "   Calificación_Normalizada  \n",
      "0                      0.91  \n",
      "1                      0.85  \n",
      "2                      0.87  \n",
      "3                      0.74  \n",
      "4                      0.95  \n",
      "\n"
     ]
    }
   ],
   "source": [
    "print(\"Ordenar por calificación (ascendente):\")\n",
    "print(df_estudiantes.sort_values('Calificación'))\n",
    "print()\n",
    "\n",
    "print(\"Ordenar por edad (descendente):\")\n",
    "print(df_estudiantes.sort_values('Edad', ascending=False))\n",
    "print()"
   ]
  },
  {
   "cell_type": "markdown",
   "id": "d16d9368-c65c-46ec-9164-25aa41adecb5",
   "metadata": {},
   "source": [
    "**Manejo de valores nulos**"
   ]
  },
  {
   "cell_type": "code",
   "execution_count": 16,
   "id": "a882c1d4-6394-42cc-a587-6fbadf94f06d",
   "metadata": {},
   "outputs": [
    {
     "name": "stdout",
     "output_type": "stream",
     "text": [
      "DataFrame con valores nulos:\n",
      "     A    B     C\n",
      "0  1.0  5.0   9.0\n",
      "1  2.0  NaN  10.0\n",
      "2  NaN  7.0  11.0\n",
      "3  4.0  8.0   NaN\n",
      "\n"
     ]
    }
   ],
   "source": [
    "# Crear DataFrame con valores nulos para demostrar\n",
    "datos_con_nulos = {\n",
    "    'A': [1, 2, None, 4],\n",
    "    'B': [5, None, 7, 8],\n",
    "    'C': [9, 10, 11, None]\n",
    "}\n",
    "df_nulos = pd.DataFrame(datos_con_nulos)\n",
    "print(\"DataFrame con valores nulos:\")\n",
    "print(df_nulos)\n",
    "print()"
   ]
  },
  {
   "cell_type": "code",
   "execution_count": 17,
   "id": "e22c145f-8be2-4fe8-af87-cb480c1602b7",
   "metadata": {},
   "outputs": [
    {
     "name": "stdout",
     "output_type": "stream",
     "text": [
      "¿Hay valores nulos?\n",
      "       A      B      C\n",
      "0  False  False  False\n",
      "1  False   True  False\n",
      "2   True  False  False\n",
      "3  False  False   True\n",
      "\n",
      "Cantidad de valores nulos por columna:\n",
      "A    1\n",
      "B    1\n",
      "C    1\n",
      "dtype: int64\n",
      "\n"
     ]
    }
   ],
   "source": [
    "# Detectar valores nulos\n",
    "print(\"¿Hay valores nulos?\")\n",
    "print(df_nulos.isnull())\n",
    "print()\n",
    "print(\"Cantidad de valores nulos por columna:\")\n",
    "print(df_nulos.isnull().sum())\n",
    "print()"
   ]
  },
  {
   "cell_type": "code",
   "execution_count": 18,
   "id": "59eba7a2-f995-4b16-aaaa-f44a216ca9ea",
   "metadata": {},
   "outputs": [
    {
     "name": "stdout",
     "output_type": "stream",
     "text": [
      "DataFrame sin filas con valores nulos:\n",
      "     A    B    C\n",
      "0  1.0  5.0  9.0\n",
      "\n"
     ]
    }
   ],
   "source": [
    "# Eliminar filas con valores nulos\n",
    "print(\"DataFrame sin filas con valores nulos:\")\n",
    "print(df_nulos.dropna())\n",
    "print()"
   ]
  },
  {
   "cell_type": "code",
   "execution_count": 19,
   "id": "d3c579a0-9341-417c-bbab-06a71494c496",
   "metadata": {},
   "outputs": [
    {
     "name": "stdout",
     "output_type": "stream",
     "text": [
      "DataFrame con valores nulos rellenados con 0:\n",
      "     A    B     C\n",
      "0  1.0  5.0   9.0\n",
      "1  2.0  0.0  10.0\n",
      "2  0.0  7.0  11.0\n",
      "3  4.0  8.0   0.0\n",
      "\n"
     ]
    }
   ],
   "source": [
    "\n",
    "# Rellenar valores nulos\n",
    "print(\"DataFrame con valores nulos rellenados con 0:\")\n",
    "print(df_nulos.fillna(0))\n",
    "print()"
   ]
  },
  {
   "cell_type": "markdown",
   "id": "33e243d2-50ab-4612-9943-eaf38d98948e",
   "metadata": {},
   "source": [
    "**Operaciones entre DataFrame**"
   ]
  },
  {
   "cell_type": "code",
   "execution_count": 27,
   "id": "f5f5f371-88f1-41ed-883a-2a96fa166cd3",
   "metadata": {},
   "outputs": [
    {
     "name": "stdout",
     "output_type": "stream",
     "text": [
      "Segundo DataFrame (notas por materia):\n",
      "      Nombre  Matemáticas  Historia\n",
      "0  Francisco           90        78\n",
      "1    Danitza           85        82\n",
      "2    Isidora           88        90\n",
      "3    Nicolás           92        86\n",
      "4      Mateo           94        93\n",
      "\n"
     ]
    }
   ],
   "source": [
    "# Crear segundo DataFrame para demostrar operaciones\n",
    "datos_notas = {\n",
    "    'Nombre': ['Francisco', 'Danitza', 'Isidora', 'Nicolás', 'Mateo'],\n",
    "    'Matemáticas': [90, 85, 88, 92, 94],\n",
    "    'Historia': [78, 82, 90, 86, 93]\n",
    "}\n",
    "df_notas = pd.DataFrame(datos_notas)\n",
    "print(\"Segundo DataFrame (notas por materia):\")\n",
    "print(df_notas)\n",
    "print()"
   ]
  },
  {
   "cell_type": "code",
   "execution_count": 28,
   "id": "42638c93-26a9-468c-b7a8-c0658042913b",
   "metadata": {},
   "outputs": [
    {
     "name": "stdout",
     "output_type": "stream",
     "text": [
      "DataFrames unidos:\n",
      "      Nombre  Edad  Calificación  Matemáticas  Historia\n",
      "0  Francisco    31            91           90        78\n",
      "1    Danitza    29            85           85        82\n",
      "2    Isidora    25            87           88        90\n",
      "3    Nicolás    23            74           92        86\n",
      "4      Mateo    13            95           94        93\n",
      "\n"
     ]
    }
   ],
   "source": [
    "# Unir DataFrames\n",
    "df_unido = pd.merge(df_estudiantes, df_notas, on='Nombre', how='inner')\n",
    "print(\"DataFrames unidos:\")\n",
    "print(df_unido[['Nombre', 'Edad', 'Calificación', 'Matemáticas', 'Historia']])\n",
    "print()"
   ]
  },
  {
   "cell_type": "markdown",
   "id": "073ab8a7-24e1-416c-9590-3f517d2c420c",
   "metadata": {},
   "source": [
    "**Métodos útiles adicionales**"
   ]
  },
  {
   "cell_type": "code",
   "execution_count": 29,
   "id": "6e22855e-2079-416b-9a31-a8c8d76dccb7",
   "metadata": {},
   "outputs": [
    {
     "name": "stdout",
     "output_type": "stream",
     "text": [
      "Nombres en mayúsculas:\n",
      "      Nombre Nombre_Mayusculas\n",
      "0  Francisco         FRANCISCO\n",
      "1    Danitza           DANITZA\n",
      "2    Isidora           ISIDORA\n",
      "3    Nicolás           NICOLÁS\n",
      "4      Mateo             MATEO\n",
      "\n",
      "Valores únicos en la columna 'Ciudad':\n",
      "Ciudad\n",
      "Santiago        1\n",
      "Puerto Varas    1\n",
      "Osorno          1\n",
      "Valdivia        1\n",
      "Temuco          1\n",
      "Name: count, dtype: int64\n",
      "\n",
      "¿Hay filas duplicadas?: False\n",
      "\n"
     ]
    }
   ],
   "source": [
    "# Aplicar función a columna\n",
    "df_estudiantes['Nombre_Mayusculas'] = df_estudiantes['Nombre'].str.upper()\n",
    "print(\"Nombres en mayúsculas:\")\n",
    "print(df_estudiantes[['Nombre', 'Nombre_Mayusculas']])\n",
    "print()\n",
    "\n",
    "# Contar valores únicos\n",
    "print(\"Valores únicos en la columna 'Ciudad':\")\n",
    "print(df_estudiantes['Ciudad'].value_counts())\n",
    "print()\n",
    "\n",
    "# Verificar duplicados\n",
    "print(\"¿Hay filas duplicadas?:\", df_estudiantes.duplicated().any())\n",
    "print()"
   ]
  },
  {
   "cell_type": "code",
   "execution_count": null,
   "id": "c28068a4-4c9b-4f09-bdb5-d306948ea5b9",
   "metadata": {},
   "outputs": [],
   "source": []
  }
 ],
 "metadata": {
  "kernelspec": {
   "display_name": "Python 3 (ipykernel)",
   "language": "python",
   "name": "python3"
  },
  "language_info": {
   "codemirror_mode": {
    "name": "ipython",
    "version": 3
   },
   "file_extension": ".py",
   "mimetype": "text/x-python",
   "name": "python",
   "nbconvert_exporter": "python",
   "pygments_lexer": "ipython3",
   "version": "3.12.7"
  }
 },
 "nbformat": 4,
 "nbformat_minor": 5
}
