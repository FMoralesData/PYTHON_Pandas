{
 "cells": [
  {
   "cell_type": "markdown",
   "id": "93dec6a0-703b-4010-9b73-83e70f112e41",
   "metadata": {},
   "source": [
    "### Introducción al manejo de archivos y configuración inicial"
   ]
  },
  {
   "cell_type": "markdown",
   "id": "de0b624a-83c4-4eb1-8652-3f380cae01e6",
   "metadata": {},
   "source": [
    "**Aspectos analizados**\n",
    "- Establece las dependencias: Importa todas las librerías que usaremos\n",
    "- Verifica compatibilidad: Muestra la versión de Pandas instalada\n",
    "- Prepara el entorno: Asegura que tenemos las herramientas necesarias\n",
    "- Documentación: Explica las ventajas de usar Pandas para CSV"
   ]
  },
  {
   "cell_type": "code",
   "execution_count": 8,
   "id": "93058aca-24c2-4037-acfc-87c008257c83",
   "metadata": {},
   "outputs": [
    {
     "name": "stdout",
     "output_type": "stream",
     "text": [
      "Versión de Pandas: 2.2.2\n",
      "Versión de Numpy: 1.26.4\n"
     ]
    }
   ],
   "source": [
    "# Importación de librerías necesarias\n",
    "import pandas as pd\n",
    "import numpy as np\n",
    "import matplotlib.pyplot as plt\n",
    "\n",
    "# Verificar versión de pandas\n",
    "print(f\"Versión de Pandas: {pd.__version__}\")\n",
    "print(F\"Versión de Numpy: {np.__version__}\")"
   ]
  },
  {
   "cell_type": "markdown",
   "id": "ba9e5056-fde5-419a-b322-c77db233d5ea",
   "metadata": {},
   "source": [
    "### Lectura de archivos csv"
   ]
  },
  {
   "cell_type": "markdown",
   "id": "08696839-34bb-4d45-9c6c-af9838a4da5f",
   "metadata": {},
   "source": [
    "**Aspectos analizados**\n",
    "- Creación de DataFrames de prueba para generar archivos CSV\n",
    "- Manejo de distintos delimitadores\n",
    "- Opciones adicionales\n",
    "- Nombres personalizados"
   ]
  },
  {
   "cell_type": "code",
   "execution_count": 9,
   "id": "c0208317-d7c2-4e98-901b-fe01e62aa9f9",
   "metadata": {},
   "outputs": [
    {
     "name": "stdout",
     "output_type": "stream",
     "text": [
      "DataFrame de ejemplo:\n",
      "  Nombre  Edad     Ciudad  Salario\n",
      "0   Juan    25     Madrid     3000\n",
      "1  María    30  Barcelona     3500\n",
      "2  Pedro    35   Valencia     4000\n",
      "3    Ana    28    Sevilla     3200\n"
     ]
    }
   ],
   "source": [
    "# Sintaxis más simple para leer un archivo CSV - read_csv()\n",
    "\n",
    "# Ejemplo básico (usando datos de muestra)\n",
    "# df = pd.read_csv('archivo.csv')\n",
    "\n",
    "# Para demostrar, crearemos datos de ejemplo\n",
    "datos_ejemplo = {\n",
    "    'Nombre': ['Juan', 'María', 'Pedro', 'Ana'],\n",
    "    'Edad': [25, 30, 35, 28],\n",
    "    'Ciudad': ['Madrid', 'Barcelona', 'Valencia', 'Sevilla'],\n",
    "    'Salario': [3000, 3500, 4000, 3200]\n",
    "}\n",
    "\n",
    "df_ejemplo = pd.DataFrame(datos_ejemplo)\n",
    "print(\"DataFrame de ejemplo:\")\n",
    "print(df_ejemplo)"
   ]
  },
  {
   "cell_type": "code",
   "execution_count": 10,
   "id": "a22ce9d3-ba5d-452b-9ac9-fa73487f2828",
   "metadata": {},
   "outputs": [
    {
     "name": "stdout",
     "output_type": "stream",
     "text": [
      "\n",
      "DataFrame sin reconocer encabezados:\n",
      "        0     1          2        3\n",
      "0  Nombre  Edad     Ciudad  Salario\n",
      "1    Juan    25     Madrid     3000\n",
      "2   María    30  Barcelona     3500\n",
      "3   Pedro    35   Valencia     4000\n",
      "4     Ana    28    Sevilla     3200\n"
     ]
    }
   ],
   "source": [
    "\"\"\" Ejemplos de delimitadores comunes:\n",
    "        • Coma (,) - delimitador estándar\n",
    "        • Punto y coma (;) - común en países europeos\n",
    "        • Tabulación (t) - para datos tabulados\"\n",
    "        • Espacio ( ) - menos común pero posible\n",
    "\n",
    "    Ejemplo con punto y coma\n",
    "        df = pd.read_csv('archivo.csv', sep=';')\n",
    "\n",
    "    Ejemplo con tabulación\n",
    "        df = pd.read_csv('archivo.csv', sep='\\t') \"\"\"\n",
    "# OPCIONES ADICIONALES PARA read_csv()\n",
    "\n",
    "# Crear archivo CSV de ejemplo para demostrar\n",
    "# index=False - No incluir el índice del DataFrame como columna en el archivo CSV\n",
    "df_ejemplo.to_csv('1_ejemplo.csv', index=False)\n",
    "\n",
    "# 1. Sin encabezados (header=None)\n",
    "df_sin_header = pd.read_csv('1_ejemplo.csv', header=None)\n",
    "#header Usa la primera fila como nombres de columnas, por defecto está en 0\n",
    "#header NONE No hay fila de encabezados, pandas asigna nombres automáticos\n",
    "print(\"\\nDataFrame sin reconocer encabezados:\")\n",
    "print(df_sin_header.head())"
   ]
  },
  {
   "cell_type": "code",
   "execution_count": 11,
   "id": "036793b3-e58f-4a47-954c-565310e9736d",
   "metadata": {},
   "outputs": [
    {
     "name": "stdout",
     "output_type": "stream",
     "text": [
      "DataFrame con nombres personalizados:\n",
      "\n",
      "  Persona  Años  Ubicación   Sueldo\n",
      "0  Nombre  Edad     Ciudad  Salario\n",
      "1    Juan    25     Madrid     3000\n",
      "2   María    30  Barcelona     3500\n",
      "3   Pedro    35   Valencia     4000\n",
      "4     Ana    28    Sevilla     3200\n"
     ]
    }
   ],
   "source": [
    "# 2. Asignar nombres personalizados a las columnas\n",
    "df_nombres_custom = pd.read_csv('1_ejemplo.csv',\n",
    "                               header=None,\n",
    "                               names=['Persona', 'Años', 'Ubicación', 'Sueldo'])\n",
    "print(\"DataFrame con nombres personalizados:\\n\")\n",
    "#head() - Muestra los primeros 5 registros del Dataframe\n",
    "print(df_nombres_custom.head())"
   ]
  },
  {
   "cell_type": "code",
   "execution_count": 12,
   "id": "727a49f2-2425-4c96-9a6e-35a27d9577c3",
   "metadata": {},
   "outputs": [
    {
     "name": "stdout",
     "output_type": "stream",
     "text": [
      "DataFrame con valores nulos procesados:\n",
      "\n",
      "  Nombre  Edad     Ciudad  Salario\n",
      "0   Juan  25.0     Madrid   3000.0\n",
      "1  María  30.0  Barcelona   3500.0\n",
      "2    NaN   NaN   Valencia   4000.0\n",
      "3    Ana  28.0        NaN      NaN\n",
      "\n",
      "Valores nulos encontrados:\n",
      "\n",
      "Nombre     1\n",
      "Edad       1\n",
      "Ciudad     1\n",
      "Salario    1\n",
      "dtype: int64\n"
     ]
    }
   ],
   "source": [
    "#3. Especificar valores nulos personalizados\n",
    "#Primero creamos un archivo con valores especiales\n",
    "datos_con_nulos = {\n",
    "    'Nombre': ['Juan', 'María', '?', 'Ana'],\n",
    "    'Edad': [25, 30, 'N/A', 28],\n",
    "    'Ciudad': ['Madrid', 'Barcelona', 'Valencia', '?'],\n",
    "    'Salario': [3000, 3500, 4000, 'N/A']\n",
    "}\n",
    "\n",
    "df_con_nulos = pd.DataFrame(datos_con_nulos)\n",
    "df_con_nulos.to_csv('2_ejemplo_nulos.csv', index=False)\n",
    "\n",
    "#Leer especificando valores nulos\n",
    "#'?' y 'N/A' se convertirán automáticamente a NaN\n",
    "df_nulos_procesados = pd.read_csv('2_ejemplo_nulos.csv',\n",
    "                                 na_values=['?', 'N/A'])\n",
    "print(\"DataFrame con valores nulos procesados:\\n\")\n",
    "print(df_nulos_procesados)\n",
    "print(f\"\\nValores nulos encontrados:\\n\")\n",
    "print(df_nulos_procesados.isnull().sum())"
   ]
  },
  {
   "cell_type": "markdown",
   "id": "d3e2baed-94e9-4e1b-a9c4-3fba9209a542",
   "metadata": {},
   "source": [
    "### Escritura de archivos CSV"
   ]
  },
  {
   "cell_type": "markdown",
   "id": "05cd3d84-c951-4714-b2db-aae1d28ade72",
   "metadata": {},
   "source": [
    "**Aspectos analizados**\n",
    "- Personalización de exportación\n",
    "- Guardar un DATAFRAME en archivos CSV\n",
    "- Preparar el DATAFRAME para exportar"
   ]
  },
  {
   "cell_type": "code",
   "execution_count": 13,
   "id": "99af7203-7e2e-4016-b2b1-dab61022b10c",
   "metadata": {},
   "outputs": [
    {
     "name": "stdout",
     "output_type": "stream",
     "text": [
      "Archivo 'nuevo_archivo.csv' creado exitosamente\n",
      "Contenido del archivo guardado:\n",
      "  Nombre  Edad     Ciudad  Salario\n",
      "0   Juan    25     Madrid     3000\n",
      "1  María    30  Barcelona     3500\n",
      "2  Pedro    35   Valencia     4000\n",
      "3    Ana    28    Sevilla     3200\n"
     ]
    }
   ],
   "source": [
    "# Preparar DataFrame para exportar\n",
    "df_para_exportar = df_ejemplo.copy()\n",
    "\n",
    "# Exportación simple\n",
    "df_para_exportar.to_csv('3_nuevo_archivo.csv', index=False)\n",
    "print(\"Archivo 'nuevo_archivo.csv' creado exitosamente\")\n",
    "\n",
    "# Verificar que se guardó correctamente\n",
    "df_verificacion = pd.read_csv('3_nuevo_archivo.csv')\n",
    "print(\"Contenido del archivo guardado:\")\n",
    "print(df_verificacion)"
   ]
  },
  {
   "cell_type": "code",
   "execution_count": 15,
   "id": "81d40b95-ad92-4bc6-889c-faee0dbcb773",
   "metadata": {},
   "outputs": [
    {
     "name": "stdout",
     "output_type": "stream",
     "text": [
      "Archivo con delimitador ';' creado\n",
      "Archivo con codificación UTF-8 creado\n",
      "Archivo sin encabezados creado\n"
     ]
    }
   ],
   "source": [
    "# PERSONALIZACIÓN DE LA EXPORTACIÓN CSV\n",
    "# 1. Cambiar el delimitador a punto y coma\n",
    "df_para_exportar.to_csv('4_archivo_puntoycoma.csv', sep=';', index=False)\n",
    "print(\"Archivo con delimitador ';' creado\")\n",
    "\n",
    "# 2. Especificar codificación UTF-8\n",
    "df_para_exportar.to_csv('5_archivo_utf8.csv', encoding='utf-8', index=False)\n",
    "print(\"Archivo con codificación UTF-8 creado\")\n",
    "\n",
    "# 3. Omitir encabezados\n",
    "df_para_exportar.to_csv('6_archivo_sin_headers.csv', header=False, index=False)\n",
    "print(\"Archivo sin encabezados creado\")"
   ]
  },
  {
   "cell_type": "code",
   "execution_count": 16,
   "id": "4c06f244-f782-44d7-a6c8-b45c0d02e62b",
   "metadata": {},
   "outputs": [
    {
     "name": "stdout",
     "output_type": "stream",
     "text": [
      "Archivo completamente personalizado creado con:\n",
      "- Delimitador: punto y coma (;)\n",
      "- Codificación: UTF-8\n",
      "- Sin encabezados\n",
      "- Sin índice\n"
     ]
    }
   ],
   "source": [
    "# EJEMPLO COMPLETO DE PERSONALIZACIÓN\n",
    "df_para_exportar.to_csv('7_archivo_personalizado.csv',\n",
    "                       sep=';',\n",
    "                       encoding='utf-8',\n",
    "                       header=False,\n",
    "                       index=False)\n",
    "\n",
    "print(\"Archivo completamente personalizado creado con:\")\n",
    "print(\"- Delimitador: punto y coma (;)\")\n",
    "print(\"- Codificación: UTF-8\")\n",
    "print(\"- Sin encabezados\")\n",
    "print(\"- Sin índice\")"
   ]
  },
  {
   "cell_type": "markdown",
   "id": "15a49bfa-f05d-4676-a0fd-39e013150d95",
   "metadata": {},
   "source": [
    "### Lectura de archivos Excel"
   ]
  },
  {
   "cell_type": "markdown",
   "id": "5b5d6efa-07c3-426c-86a0-a26d54a2f07c",
   "metadata": {},
   "source": [
    "**Aspectos analizados**\n",
    "- Lectura básica de un Excel\n",
    "- Lectura de múltiples hojas de un Excel"
   ]
  },
  {
   "cell_type": "code",
   "execution_count": 18,
   "id": "003cfa5a-f299-48e0-8b54-c458bab3e156",
   "metadata": {},
   "outputs": [
    {
     "name": "stdout",
     "output_type": "stream",
     "text": [
      "Archivo Excel 'productos.xlsx' creado\n",
      "Datos leídos desde Excel:\n",
      "  Producto  Precio  Stock     Categoria\n",
      "0   Laptop     800     10  Electrónicos\n",
      "1    Mouse      25     50    Accesorios\n",
      "2  Teclado      60     30    Accesorios\n",
      "3  Monitor     300     15  Electrónicos\n"
     ]
    }
   ],
   "source": [
    "# Leer archivos Excel (.xlsx o .xls)\n",
    "# Crear un archivo Excel de ejemplo\n",
    "df_excel_ejemplo = pd.DataFrame({\n",
    "    'Producto': ['Laptop', 'Mouse', 'Teclado', 'Monitor'],\n",
    "    'Precio': [800, 25, 60, 300],\n",
    "    'Stock': [10, 50, 30, 15],\n",
    "    'Categoria': ['Electrónicos', 'Accesorios', 'Accesorios', 'Electrónicos']\n",
    "})\n",
    "\n",
    "# Guardar como Excel\n",
    "df_excel_ejemplo.to_excel('8_productos.xlsx', index=False)\n",
    "print(\"Archivo Excel 'productos.xlsx' creado\")\n",
    "\n",
    "# Leer el archivo Excel\n",
    "df_desde_excel = pd.read_excel('8_productos.xlsx')\n",
    "print(\"Datos leídos desde Excel:\")\n",
    "print(df_desde_excel)"
   ]
  },
  {
   "cell_type": "code",
   "execution_count": 19,
   "id": "ada9945f-e48c-482b-bf4e-82a1b72f95f7",
   "metadata": {},
   "outputs": [
    {
     "name": "stdout",
     "output_type": "stream",
     "text": [
      "Archivo Excel con múltiples hojas creado\n"
     ]
    },
    {
     "data": {
      "text/plain": [
       "'\\nPara tener la misma estructura con manejo de errores\\n\\ntry:\\n    with pd.ExcelWriter(\\'inventario.xlsx\\') as writer:\\n        df_productos.to_excel(writer, sheet_name=\\'Productos\\', index=False)\\n        df_ventas.to_excel(writer, sheet_name=\\'Ventas\\', index=False)\\n    print(\"Archivo Excel creado exitosamente\")\\nexcept Exception as e:\\n    print(f\"Error al crear el archivo: {e}\")\\n'"
      ]
     },
     "execution_count": 19,
     "metadata": {},
     "output_type": "execute_result"
    }
   ],
   "source": [
    "# TRABAJANDO CON MÚLTIPLES HOJAS DE EXCEL\n",
    "\n",
    "# El siguiente código es equivalente a :\n",
    "# writer = pd.ExcelWriter('9_inventario_multiple.xlsx')\n",
    "#  ... código ...\n",
    "# writer.close()  # Se hace automáticamente con 'with'\n",
    "\n",
    "# Crear archivo Excel con múltiples hojas\n",
    "with pd.ExcelWriter('9_inventario_multiple.xlsx') as writer:\n",
    "    # Hoja 1: Productos\n",
    "    df_productos = pd.DataFrame({\n",
    "        'ID': [1, 2, 3],\n",
    "        'Nombre': ['Laptop', 'Mouse', 'Teclado'],\n",
    "        'Precio': [800, 25, 60]\n",
    "    })\n",
    "    df_productos.to_excel(writer, sheet_name='Productos', index=False)\n",
    "\n",
    "    # Hoja 2: Ventas\n",
    "    df_ventas = pd.DataFrame({\n",
    "        'Fecha': ['2024-01-15', '2024-01-16', '2024-01-17'],\n",
    "        'Producto_ID': [1, 2, 1],\n",
    "        'Cantidad': [2, 5, 1]\n",
    "    })\n",
    "    df_ventas.to_excel(writer, sheet_name='Ventas', index=False)\n",
    "\n",
    "print(\"Archivo Excel con múltiples hojas creado\")\n",
    "\n",
    "\"\"\"\n",
    "Para tener la misma estructura con manejo de errores\n",
    "\n",
    "try:\n",
    "    with pd.ExcelWriter('inventario.xlsx') as writer:\n",
    "        df_productos.to_excel(writer, sheet_name='Productos', index=False)\n",
    "        df_ventas.to_excel(writer, sheet_name='Ventas', index=False)\n",
    "    print(\"Archivo Excel creado exitosamente\")\n",
    "except Exception as e:\n",
    "    print(f\"Error al crear el archivo: {e}\")\n",
    "\"\"\""
   ]
  },
  {
   "cell_type": "code",
   "execution_count": 20,
   "id": "363ccc8f-8c22-41f1-9196-660aaad9460e",
   "metadata": {},
   "outputs": [
    {
     "name": "stdout",
     "output_type": "stream",
     "text": [
      "Datos de la hoja 'Productos':\n",
      "   ID   Nombre  Precio\n",
      "0   1   Laptop     800\n",
      "1   2    Mouse      25\n",
      "2   3  Teclado      60\n"
     ]
    }
   ],
   "source": [
    "# LEER UNA HOJA ESPECÍFICA\n",
    "df_productos_leido = pd.read_excel('9_inventario_multiple.xlsx', sheet_name='Productos')\n",
    "print(\"Datos de la hoja 'Productos':\")\n",
    "print(df_productos_leido)"
   ]
  },
  {
   "cell_type": "code",
   "execution_count": 21,
   "id": "2a147a92-8bc4-42ec-8666-2a69b53e19ce",
   "metadata": {},
   "outputs": [
    {
     "name": "stdout",
     "output_type": "stream",
     "text": [
      "Hoja 'Productos':\n",
      "   ID   Nombre  Precio\n",
      "0   1   Laptop     800\n",
      "1   2    Mouse      25\n",
      "2   3  Teclado      60\n",
      "\n",
      "Hoja 'Ventas':\n",
      "        Fecha  Producto_ID  Cantidad\n",
      "0  2024-01-15            1         2\n",
      "1  2024-01-16            2         5\n",
      "2  2024-01-17            1         1\n"
     ]
    }
   ],
   "source": [
    "# LEER MÚLTIPLES HOJAS A LA VEZ\n",
    "df_dict = pd.read_excel('9_inventario_multiple.xlsx', sheet_name=['Productos', 'Ventas'])\n",
    "\n",
    "print(\"Hoja 'Productos':\")\n",
    "print(df_dict['Productos'])\n",
    "print(\"\\nHoja 'Ventas':\")\n",
    "print(df_dict['Ventas'])"
   ]
  },
  {
   "cell_type": "code",
   "execution_count": 22,
   "id": "c53ee58b-80c7-4999-b708-c770169e2c14",
   "metadata": {},
   "outputs": [
    {
     "name": "stdout",
     "output_type": "stream",
     "text": [
      "Nombres de todas las hojas: ['Productos', 'Ventas']\n"
     ]
    }
   ],
   "source": [
    "# LEER TODAS LAS HOJAS\n",
    "# pd.read_excel(sheet_name=None) = Devuelve un diccionario en lugar de un DataFrame\n",
    "# list() = Convierte dict_keys a una lista normal\n",
    "df_todas_hojas = pd.read_excel('9_inventario_multiple.xlsx', sheet_name=None)\n",
    "print(\"Nombres de todas las hojas:\", list(df_todas_hojas.keys()))"
   ]
  },
  {
   "cell_type": "markdown",
   "id": "d7e38fcb-a79e-4598-afa3-d05014af97f2",
   "metadata": {},
   "source": [
    "**Escritura de archivos Excel**\n",
    "- Escritura básica de un archivo Excel\n",
    "- Escritura de múltiples hojas de un Excel"
   ]
  },
  {
   "cell_type": "code",
   "execution_count": 23,
   "id": "5351b13c-395f-4275-b70e-b37c0343da67",
   "metadata": {},
   "outputs": [
    {
     "name": "stdout",
     "output_type": "stream",
     "text": [
      "Archivo Excel básico creado: 'datos_exportados.xlsx'\n"
     ]
    }
   ],
   "source": [
    "# EXPORTACIÓN BÁSICA CON to_excel()\n",
    "df_para_excel = df_ejemplo.copy()\n",
    "\n",
    "# Exportación simple\n",
    "df_para_excel.to_excel('10_datos_exportados.xlsx', index=False)\n",
    "print(\"Archivo Excel básico creado: 'datos_exportados.xlsx'\")"
   ]
  },
  {
   "cell_type": "code",
   "execution_count": 24,
   "id": "4f0e6143-a047-4fa2-991f-37b3e58abef6",
   "metadata": {},
   "outputs": [],
   "source": [
    "# Preparar diferentes DataFrames\n",
    "df_empleados = pd.DataFrame({\n",
    "    'Nombre': ['Juan', 'María', 'Pedro'],\n",
    "    'Departamento': ['IT', 'RRHH', 'Ventas'],\n",
    "    'Salario': [3000, 2800, 3200]\n",
    "})\n",
    "\n",
    "df_departamentos = pd.DataFrame({\n",
    "    'Departamento': ['IT', 'RRHH', 'Ventas'],\n",
    "    'Presupuesto': [50000, 30000, 40000],\n",
    "    'Empleados': [10, 5, 8]\n",
    "})"
   ]
  },
  {
   "cell_type": "code",
   "execution_count": 25,
   "id": "41b4ba20-3c0f-41d1-ac52-62aa0166f4b6",
   "metadata": {},
   "outputs": [
    {
     "name": "stdout",
     "output_type": "stream",
     "text": [
      "Archivo Excel con múltiples hojas creado: 'reporte_empresa.xlsx'\n"
     ]
    }
   ],
   "source": [
    "# Crear archivo con múltiples hojas\n",
    "with pd.ExcelWriter('11_reporte_empresa.xlsx') as writer:\n",
    "    df_empleados.to_excel(writer, sheet_name='Empleados', index=False)\n",
    "    df_departamentos.to_excel(writer, sheet_name='Departamentos', index=False)\n",
    "\n",
    "print(\"Archivo Excel con múltiples hojas creado: 'reporte_empresa.xlsx'\")"
   ]
  },
  {
   "cell_type": "code",
   "execution_count": 26,
   "id": "3113a99d-ff68-47ad-9823-860e2cb2507f",
   "metadata": {},
   "outputs": [
    {
     "name": "stdout",
     "output_type": "stream",
     "text": [
      "Hojas disponibles:\n",
      "- Empleados\n",
      "- Departamentos\n"
     ]
    }
   ],
   "source": [
    "# Verificar que se creó correctamente\n",
    "print(\"Hojas disponibles:\")\n",
    "hojas_disponibles = pd.read_excel('11_reporte_empresa.xlsx', sheet_name=None)\n",
    "for nombre_hoja in hojas_disponibles.keys():\n",
    "    print(f\"- {nombre_hoja}\")"
   ]
  },
  {
   "cell_type": "code",
   "execution_count": null,
   "id": "d3467b77-93d3-4a5e-8007-e3d13392b936",
   "metadata": {},
   "outputs": [],
   "source": []
  }
 ],
 "metadata": {
  "kernelspec": {
   "display_name": "Python 3 (ipykernel)",
   "language": "python",
   "name": "python3"
  },
  "language_info": {
   "codemirror_mode": {
    "name": "ipython",
    "version": 3
   },
   "file_extension": ".py",
   "mimetype": "text/x-python",
   "name": "python",
   "nbconvert_exporter": "python",
   "pygments_lexer": "ipython3",
   "version": "3.12.7"
  }
 },
 "nbformat": 4,
 "nbformat_minor": 5
}
