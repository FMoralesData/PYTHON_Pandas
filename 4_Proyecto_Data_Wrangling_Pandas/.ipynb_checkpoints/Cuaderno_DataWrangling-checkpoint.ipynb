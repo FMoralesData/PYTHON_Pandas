{
 "cells": [
  {
   "cell_type": "markdown",
   "id": "3f338f18-1b98-4305-9527-cd539ac2f249",
   "metadata": {},
   "source": [
    "**Configuración inicial**"
   ]
  },
  {
   "cell_type": "code",
   "execution_count": 1,
   "id": "cef47432-a42b-45b2-976b-e4048071273b",
   "metadata": {},
   "outputs": [
    {
     "name": "stdout",
     "output_type": "stream",
     "text": [
      "¡Pandas importado!\n",
      "\tLa versión de Pandas es: 2.2.2\n",
      "¡NumPy importado!\n",
      "\tLa versión de NumPy es: 1.26.4\n"
     ]
    }
   ],
   "source": [
    "# Importación de librerías necesarias\n",
    "import pandas as pd\n",
    "import numpy as np\n",
    "\n",
    "# Verificación de versiones instaladas\n",
    "print(f\"¡Pandas importado!\\n\\tLa versión de Pandas es: {pd.__version__}\")\n",
    "print(f\"¡NumPy importado!\\n\\tLa versión de NumPy es: {np.__version__}\")"
   ]
  },
  {
   "cell_type": "code",
   "execution_count": 3,
   "id": "a1cfedc1-a83b-4228-b5b4-5065a7fa32c0",
   "metadata": {},
   "outputs": [
    {
     "data": {
      "text/html": [
       "<div>\n",
       "<style scoped>\n",
       "    .dataframe tbody tr th:only-of-type {\n",
       "        vertical-align: middle;\n",
       "    }\n",
       "\n",
       "    .dataframe tbody tr th {\n",
       "        vertical-align: top;\n",
       "    }\n",
       "\n",
       "    .dataframe thead th {\n",
       "        text-align: right;\n",
       "    }\n",
       "</style>\n",
       "<table border=\"1\" class=\"dataframe\">\n",
       "  <thead>\n",
       "    <tr style=\"text-align: right;\">\n",
       "      <th></th>\n",
       "      <th>nombre</th>\n",
       "      <th>categoria</th>\n",
       "      <th>precio</th>\n",
       "      <th>ventas</th>\n",
       "      <th>objetivo</th>\n",
       "      <th>fecha</th>\n",
       "      <th>estado</th>\n",
       "      <th>email</th>\n",
       "      <th>telefono</th>\n",
       "      <th>edad</th>\n",
       "      <th>ingreso</th>\n",
       "    </tr>\n",
       "  </thead>\n",
       "  <tbody>\n",
       "    <tr>\n",
       "      <th>0</th>\n",
       "      <td>Juan Pérez</td>\n",
       "      <td>Electrónicos</td>\n",
       "      <td>$1250.50</td>\n",
       "      <td>15.0</td>\n",
       "      <td>20.0</td>\n",
       "      <td>2023-01-15</td>\n",
       "      <td>activo</td>\n",
       "      <td>juan.perez@email.com</td>\n",
       "      <td>555-1234</td>\n",
       "      <td>28</td>\n",
       "      <td>45000.0</td>\n",
       "    </tr>\n",
       "    <tr>\n",
       "      <th>1</th>\n",
       "      <td>María García</td>\n",
       "      <td>NaN</td>\n",
       "      <td>$850.00</td>\n",
       "      <td>12.0</td>\n",
       "      <td>10.0</td>\n",
       "      <td>15/02/2023</td>\n",
       "      <td>ACTIVO</td>\n",
       "      <td>maria.garcia@gmail.com</td>\n",
       "      <td>555.5678</td>\n",
       "      <td>35</td>\n",
       "      <td>52000.0</td>\n",
       "    </tr>\n",
       "    <tr>\n",
       "      <th>2</th>\n",
       "      <td>Pedro López</td>\n",
       "      <td>Electronicos</td>\n",
       "      <td>1100.00</td>\n",
       "      <td>25.0</td>\n",
       "      <td>30.0</td>\n",
       "      <td>2023/03/10</td>\n",
       "      <td>inactivo</td>\n",
       "      <td>pedro@email</td>\n",
       "      <td>5551234</td>\n",
       "      <td>42</td>\n",
       "      <td>NaN</td>\n",
       "    </tr>\n",
       "    <tr>\n",
       "      <th>3</th>\n",
       "      <td>Ana Martínez</td>\n",
       "      <td>Ropa</td>\n",
       "      <td>450.75</td>\n",
       "      <td>NaN</td>\n",
       "      <td>15.0</td>\n",
       "      <td>2023-04-20</td>\n",
       "      <td>activo</td>\n",
       "      <td>ana.martinez@hotmail.com</td>\n",
       "      <td>555-9876</td>\n",
       "      <td>29</td>\n",
       "      <td>38000.0</td>\n",
       "    </tr>\n",
       "    <tr>\n",
       "      <th>4</th>\n",
       "      <td>Carlos Ruiz</td>\n",
       "      <td>ROPA</td>\n",
       "      <td>NaN</td>\n",
       "      <td>18.0</td>\n",
       "      <td>20.0</td>\n",
       "      <td>20/05/2023</td>\n",
       "      <td>Activo</td>\n",
       "      <td>carlos.ruiz@email.com</td>\n",
       "      <td>555 1111</td>\n",
       "      <td>abc</td>\n",
       "      <td>41000.0</td>\n",
       "    </tr>\n",
       "  </tbody>\n",
       "</table>\n",
       "</div>"
      ],
      "text/plain": [
       "         nombre     categoria    precio  ventas  objetivo       fecha  \\\n",
       "0    Juan Pérez  Electrónicos  $1250.50    15.0      20.0  2023-01-15   \n",
       "1  María García           NaN   $850.00    12.0      10.0  15/02/2023   \n",
       "2   Pedro López  Electronicos   1100.00    25.0      30.0  2023/03/10   \n",
       "3  Ana Martínez          Ropa    450.75     NaN      15.0  2023-04-20   \n",
       "4   Carlos Ruiz          ROPA       NaN    18.0      20.0  20/05/2023   \n",
       "\n",
       "     estado                     email  telefono edad  ingreso  \n",
       "0    activo      juan.perez@email.com  555-1234   28  45000.0  \n",
       "1    ACTIVO    maria.garcia@gmail.com  555.5678   35  52000.0  \n",
       "2  inactivo               pedro@email   5551234   42      NaN  \n",
       "3    activo  ana.martinez@hotmail.com  555-9876   29  38000.0  \n",
       "4    Activo     carlos.ruiz@email.com  555 1111  abc  41000.0  "
      ]
     },
     "execution_count": 3,
     "metadata": {},
     "output_type": "execute_result"
    }
   ],
   "source": [
    "# Cargar todos los datos directo desde un CSV\n",
    "df = pd.read_csv(\"datos_wrangling.csv\")\n",
    "df.head()"
   ]
  },
  {
   "cell_type": "markdown",
   "id": "9099846c-22fb-4a71-be4b-93fc27bafc72",
   "metadata": {},
   "source": [
    "**Conceptos Fundamentales**"
   ]
  },
  {
   "cell_type": "code",
   "execution_count": 4,
   "id": "1efff0ff-42a1-43b4-b584-105655aab00b",
   "metadata": {},
   "outputs": [
    {
     "name": "stdout",
     "output_type": "stream",
     "text": [
      "=== DATA WRANGLING - CONCEPTOS FUNDAMENTALES ===\n",
      "El Data Wrangling es el proceso de transformar y estructurar datos\n",
      "para que sean adecuados para el análisis.\n",
      "\n",
      "--- Ejemplo de transformación de datos ---\n",
      "Datos originales:\n",
      "              nombre     categoria    precio  ventas  objetivo       fecha  \\\n",
      "0         Juan Pérez  Electrónicos  $1250.50    15.0      20.0  2023-01-15   \n",
      "1       María García           NaN   $850.00    12.0      10.0  15/02/2023   \n",
      "2        Pedro López  Electronicos   1100.00    25.0      30.0  2023/03/10   \n",
      "3       Ana Martínez          Ropa    450.75     NaN      15.0  2023-04-20   \n",
      "4        Carlos Ruiz          ROPA       NaN    18.0      20.0  20/05/2023   \n",
      "5                NaN         Hogar    320.25     8.0      12.0  2023-06-15   \n",
      "6      Roberto Silva         Hogar        $0    22.0      25.0  2023/07/30   \n",
      "7      Elena Vásquez      Deportes   $780.90    14.0      18.0  30/08/2023   \n",
      "8        Carlos Ruiz          ROPA       NaN    18.0      20.0  20/05/2023   \n",
      "9     José Hernández      deportes      1500    35.0      30.0  2023-09-12   \n",
      "10      Diana Castro    Tecnología   $950.00    16.0      20.0  15/10/2023   \n",
      "11               NaN        Libros    125.50     5.0       8.0  2023-11-20   \n",
      "12   Alberto Sánchez        Viajes   2500.00    30.0      35.0  2024/07/10   \n",
      "13    Sandra Morales        libros       NaN    28.0      25.0  2023/12/05   \n",
      "14     Miguel Torres         Salud   $675.30    11.0      15.0  10/01/2024   \n",
      "15   Alberto Sánchez        Viajes   2500.00    30.0      35.0  2024/07/10   \n",
      "16      Andrea López         SALUD      $850    19.0       NaN  25/02/2024   \n",
      "17     Francisco Gil          Arte       NaN     7.0      10.0  2024-03-15   \n",
      "18      Claudia Ruiz           NaN    445.80    13.0      18.0  30/04/2024   \n",
      "19      Raúl Mendoza        Música  $1200.00    -5.0      22.0  2024-05-20   \n",
      "20  Patricia Jiménez        música    580.90    21.0      20.0  15/06/2024   \n",
      "21   Alberto Sánchez        Viajes   2500.00    30.0      35.0  2024/07/10   \n",
      "22     Isabel Vargas        viajes   1850.75    26.0      30.0         NaN   \n",
      "\n",
      "      estado                         email  telefono edad  ingreso  \n",
      "0     activo          juan.perez@email.com  555-1234   28  45000.0  \n",
      "1     ACTIVO        maria.garcia@gmail.com  555.5678   35  52000.0  \n",
      "2   inactivo                   pedro@email   5551234   42      NaN  \n",
      "3     activo      ana.martinez@hotmail.com  555-9876   29  38000.0  \n",
      "4     Activo         carlos.ruiz@email.com  555 1111  abc  41000.0  \n",
      "5   inactivo                 lucia.torres@  555-2222   31  36000.0  \n",
      "6     activo       roberto.silva@gmail.com  555-3333   48  65000.0  \n",
      "7        NaN       elena.vasquez@email.com   5554444   27      NaN  \n",
      "8     Activo         carlos.ruiz@email.com  555 1111  abc  41000.0  \n",
      "9     activo        jose.hernandez@hotmail  555-5555   55  78000.0  \n",
      "10  INACTIVO        diana.castro@email.com       NaN   33  42000.0  \n",
      "11    activo       fernando.luna@gmail.com  555-7777   39  35000.0  \n",
      "12    activo     alberto.sanchez@gmail.com  555-5555   37  85000.0  \n",
      "13    activo               sandra.morales@  555-8888   24  29000.0  \n",
      "14  inactivo       miguel.torres@email.com  555-9999   46      NaN  \n",
      "15    activo     alberto.sanchez@gmail.com  555-5555   37  85000.0  \n",
      "16    activo                           NaN  555-0000   32  48000.0  \n",
      "17    activo     francisco.gil@hotmail.com  555.1111   28  33000.0  \n",
      "18    ACTIVO        claudia.ruiz@gmail.com   5552222   41  57000.0  \n",
      "19  inactivo            raul.mendoza@email  555-3333  250  62000.0  \n",
      "20       NaN  patricia.jimenez@hotmail.com  555-4444   34 -15000.0  \n",
      "21    activo     alberto.sanchez@gmail.com  555-5555   37  85000.0  \n",
      "22    activo       isabel.vargas@email.com  555-6666   29  71000.0  \n",
      "\n",
      "Tipos de datos originales:\n",
      "nombre        object\n",
      "categoria     object\n",
      "precio        object\n",
      "ventas       float64\n",
      "objetivo     float64\n",
      "fecha         object\n",
      "estado        object\n",
      "email         object\n",
      "telefono      object\n",
      "edad          object\n",
      "ingreso      float64\n",
      "dtype: object\n"
     ]
    }
   ],
   "source": [
    "print(\"=== DATA WRANGLING - CONCEPTOS FUNDAMENTALES ===\")\n",
    "print(\"El Data Wrangling es el proceso de transformar y estructurar datos\")\n",
    "print(\"para que sean adecuados para el análisis.\")\n",
    "print()\n",
    "\n",
    "# Ejemplo básico de transformación de datos\n",
    "print(\"--- Ejemplo de transformación de datos ---\")\n",
    "\n",
    "print(\"Datos originales:\")\n",
    "print(df)\n",
    "print(\"\\nTipos de datos originales:\")\n",
    "print(df.dtypes)"
   ]
  },
  {
   "cell_type": "markdown",
   "id": "13c7d873-2c0b-4f1a-92df-f297eeae96ae",
   "metadata": {},
   "source": [
    "**Muestreo aleatorio y permutación**"
   ]
  },
  {
   "cell_type": "code",
   "execution_count": 6,
   "id": "7658499d-7193-43dd-bed4-99eee46beb41",
   "metadata": {},
   "outputs": [
    {
     "name": "stdout",
     "output_type": "stream",
     "text": [
      "Muestreo de 5 filas específicas:\n"
     ]
    },
    {
     "data": {
      "text/html": [
       "<div>\n",
       "<style scoped>\n",
       "    .dataframe tbody tr th:only-of-type {\n",
       "        vertical-align: middle;\n",
       "    }\n",
       "\n",
       "    .dataframe tbody tr th {\n",
       "        vertical-align: top;\n",
       "    }\n",
       "\n",
       "    .dataframe thead th {\n",
       "        text-align: right;\n",
       "    }\n",
       "</style>\n",
       "<table border=\"1\" class=\"dataframe\">\n",
       "  <thead>\n",
       "    <tr style=\"text-align: right;\">\n",
       "      <th></th>\n",
       "      <th>nombre</th>\n",
       "      <th>categoria</th>\n",
       "      <th>precio</th>\n",
       "      <th>ventas</th>\n",
       "      <th>objetivo</th>\n",
       "      <th>fecha</th>\n",
       "      <th>estado</th>\n",
       "      <th>email</th>\n",
       "      <th>telefono</th>\n",
       "      <th>edad</th>\n",
       "      <th>ingreso</th>\n",
       "    </tr>\n",
       "  </thead>\n",
       "  <tbody>\n",
       "    <tr>\n",
       "      <th>12</th>\n",
       "      <td>Alberto Sánchez</td>\n",
       "      <td>Viajes</td>\n",
       "      <td>2500.00</td>\n",
       "      <td>30.0</td>\n",
       "      <td>35.0</td>\n",
       "      <td>2024/07/10</td>\n",
       "      <td>activo</td>\n",
       "      <td>alberto.sanchez@gmail.com</td>\n",
       "      <td>555-5555</td>\n",
       "      <td>37</td>\n",
       "      <td>85000.0</td>\n",
       "    </tr>\n",
       "    <tr>\n",
       "      <th>4</th>\n",
       "      <td>Carlos Ruiz</td>\n",
       "      <td>ROPA</td>\n",
       "      <td>NaN</td>\n",
       "      <td>18.0</td>\n",
       "      <td>20.0</td>\n",
       "      <td>20/05/2023</td>\n",
       "      <td>Activo</td>\n",
       "      <td>carlos.ruiz@email.com</td>\n",
       "      <td>555 1111</td>\n",
       "      <td>abc</td>\n",
       "      <td>41000.0</td>\n",
       "    </tr>\n",
       "    <tr>\n",
       "      <th>9</th>\n",
       "      <td>José Hernández</td>\n",
       "      <td>deportes</td>\n",
       "      <td>1500</td>\n",
       "      <td>35.0</td>\n",
       "      <td>30.0</td>\n",
       "      <td>2023-09-12</td>\n",
       "      <td>activo</td>\n",
       "      <td>jose.hernandez@hotmail</td>\n",
       "      <td>555-5555</td>\n",
       "      <td>55</td>\n",
       "      <td>78000.0</td>\n",
       "    </tr>\n",
       "    <tr>\n",
       "      <th>7</th>\n",
       "      <td>Elena Vásquez</td>\n",
       "      <td>Deportes</td>\n",
       "      <td>$780.90</td>\n",
       "      <td>14.0</td>\n",
       "      <td>18.0</td>\n",
       "      <td>30/08/2023</td>\n",
       "      <td>NaN</td>\n",
       "      <td>elena.vasquez@email.com</td>\n",
       "      <td>5554444</td>\n",
       "      <td>27</td>\n",
       "      <td>NaN</td>\n",
       "    </tr>\n",
       "    <tr>\n",
       "      <th>2</th>\n",
       "      <td>Pedro López</td>\n",
       "      <td>Electronicos</td>\n",
       "      <td>1100.00</td>\n",
       "      <td>25.0</td>\n",
       "      <td>30.0</td>\n",
       "      <td>2023/03/10</td>\n",
       "      <td>inactivo</td>\n",
       "      <td>pedro@email</td>\n",
       "      <td>5551234</td>\n",
       "      <td>42</td>\n",
       "      <td>NaN</td>\n",
       "    </tr>\n",
       "  </tbody>\n",
       "</table>\n",
       "</div>"
      ],
      "text/plain": [
       "             nombre     categoria   precio  ventas  objetivo       fecha  \\\n",
       "12  Alberto Sánchez        Viajes  2500.00    30.0      35.0  2024/07/10   \n",
       "4       Carlos Ruiz          ROPA      NaN    18.0      20.0  20/05/2023   \n",
       "9    José Hernández      deportes     1500    35.0      30.0  2023-09-12   \n",
       "7     Elena Vásquez      Deportes  $780.90    14.0      18.0  30/08/2023   \n",
       "2       Pedro López  Electronicos  1100.00    25.0      30.0  2023/03/10   \n",
       "\n",
       "      estado                      email  telefono edad  ingreso  \n",
       "12    activo  alberto.sanchez@gmail.com  555-5555   37  85000.0  \n",
       "4     Activo      carlos.ruiz@email.com  555 1111  abc  41000.0  \n",
       "9     activo     jose.hernandez@hotmail  555-5555   55  78000.0  \n",
       "7        NaN    elena.vasquez@email.com   5554444   27      NaN  \n",
       "2   inactivo                pedro@email   5551234   42      NaN  "
      ]
     },
     "execution_count": 6,
     "metadata": {},
     "output_type": "execute_result"
    }
   ],
   "source": [
    "#Copia del DataFrame\n",
    "df_muestreo = df.copy()\n",
    "\n",
    "# Muestreo aleatorio de 5 filas\n",
    "muestra = df_muestreo.sample(n=5)\n",
    "print(\"Muestreo de 5 filas específicas:\")\n",
    "muestra"
   ]
  },
  {
   "cell_type": "code",
   "execution_count": 7,
   "id": "8207b670-35d2-4d8c-8f4d-333eee363151",
   "metadata": {},
   "outputs": [
    {
     "name": "stdout",
     "output_type": "stream",
     "text": [
      "Muestreo del 20% de los datos (5 filas):\n"
     ]
    },
    {
     "data": {
      "text/html": [
       "<div>\n",
       "<style scoped>\n",
       "    .dataframe tbody tr th:only-of-type {\n",
       "        vertical-align: middle;\n",
       "    }\n",
       "\n",
       "    .dataframe tbody tr th {\n",
       "        vertical-align: top;\n",
       "    }\n",
       "\n",
       "    .dataframe thead th {\n",
       "        text-align: right;\n",
       "    }\n",
       "</style>\n",
       "<table border=\"1\" class=\"dataframe\">\n",
       "  <thead>\n",
       "    <tr style=\"text-align: right;\">\n",
       "      <th></th>\n",
       "      <th>nombre</th>\n",
       "      <th>categoria</th>\n",
       "      <th>precio</th>\n",
       "      <th>ventas</th>\n",
       "      <th>objetivo</th>\n",
       "      <th>fecha</th>\n",
       "      <th>estado</th>\n",
       "      <th>email</th>\n",
       "      <th>telefono</th>\n",
       "      <th>edad</th>\n",
       "      <th>ingreso</th>\n",
       "    </tr>\n",
       "  </thead>\n",
       "  <tbody>\n",
       "    <tr>\n",
       "      <th>6</th>\n",
       "      <td>Roberto Silva</td>\n",
       "      <td>Hogar</td>\n",
       "      <td>$0</td>\n",
       "      <td>22.0</td>\n",
       "      <td>25.0</td>\n",
       "      <td>2023/07/30</td>\n",
       "      <td>activo</td>\n",
       "      <td>roberto.silva@gmail.com</td>\n",
       "      <td>555-3333</td>\n",
       "      <td>48</td>\n",
       "      <td>65000.0</td>\n",
       "    </tr>\n",
       "    <tr>\n",
       "      <th>11</th>\n",
       "      <td>NaN</td>\n",
       "      <td>Libros</td>\n",
       "      <td>125.50</td>\n",
       "      <td>5.0</td>\n",
       "      <td>8.0</td>\n",
       "      <td>2023-11-20</td>\n",
       "      <td>activo</td>\n",
       "      <td>fernando.luna@gmail.com</td>\n",
       "      <td>555-7777</td>\n",
       "      <td>39</td>\n",
       "      <td>35000.0</td>\n",
       "    </tr>\n",
       "    <tr>\n",
       "      <th>17</th>\n",
       "      <td>Francisco Gil</td>\n",
       "      <td>Arte</td>\n",
       "      <td>NaN</td>\n",
       "      <td>7.0</td>\n",
       "      <td>10.0</td>\n",
       "      <td>2024-03-15</td>\n",
       "      <td>activo</td>\n",
       "      <td>francisco.gil@hotmail.com</td>\n",
       "      <td>555.1111</td>\n",
       "      <td>28</td>\n",
       "      <td>33000.0</td>\n",
       "    </tr>\n",
       "    <tr>\n",
       "      <th>3</th>\n",
       "      <td>Ana Martínez</td>\n",
       "      <td>Ropa</td>\n",
       "      <td>450.75</td>\n",
       "      <td>NaN</td>\n",
       "      <td>15.0</td>\n",
       "      <td>2023-04-20</td>\n",
       "      <td>activo</td>\n",
       "      <td>ana.martinez@hotmail.com</td>\n",
       "      <td>555-9876</td>\n",
       "      <td>29</td>\n",
       "      <td>38000.0</td>\n",
       "    </tr>\n",
       "    <tr>\n",
       "      <th>19</th>\n",
       "      <td>Raúl Mendoza</td>\n",
       "      <td>Música</td>\n",
       "      <td>$1200.00</td>\n",
       "      <td>-5.0</td>\n",
       "      <td>22.0</td>\n",
       "      <td>2024-05-20</td>\n",
       "      <td>inactivo</td>\n",
       "      <td>raul.mendoza@email</td>\n",
       "      <td>555-3333</td>\n",
       "      <td>250</td>\n",
       "      <td>62000.0</td>\n",
       "    </tr>\n",
       "  </tbody>\n",
       "</table>\n",
       "</div>"
      ],
      "text/plain": [
       "           nombre categoria    precio  ventas  objetivo       fecha    estado  \\\n",
       "6   Roberto Silva     Hogar        $0    22.0      25.0  2023/07/30    activo   \n",
       "11            NaN    Libros    125.50     5.0       8.0  2023-11-20    activo   \n",
       "17  Francisco Gil      Arte       NaN     7.0      10.0  2024-03-15    activo   \n",
       "3    Ana Martínez      Ropa    450.75     NaN      15.0  2023-04-20    activo   \n",
       "19   Raúl Mendoza    Música  $1200.00    -5.0      22.0  2024-05-20  inactivo   \n",
       "\n",
       "                        email  telefono edad  ingreso  \n",
       "6     roberto.silva@gmail.com  555-3333   48  65000.0  \n",
       "11    fernando.luna@gmail.com  555-7777   39  35000.0  \n",
       "17  francisco.gil@hotmail.com  555.1111   28  33000.0  \n",
       "3    ana.martinez@hotmail.com  555-9876   29  38000.0  \n",
       "19         raul.mendoza@email  555-3333  250  62000.0  "
      ]
     },
     "execution_count": 7,
     "metadata": {},
     "output_type": "execute_result"
    }
   ],
   "source": [
    "# Muestreo del 20% de los datos\n",
    "muestra_porcentaje = df_muestreo.sample(frac=0.2)\n",
    "print(f\"Muestreo del 20% de los datos ({len(muestra_porcentaje)} filas):\")\n",
    "muestra_porcentaje"
   ]
  },
  {
   "cell_type": "code",
   "execution_count": 8,
   "id": "c8f7889c-81fd-47c9-8887-408c36c9e22c",
   "metadata": {},
   "outputs": [
    {
     "name": "stdout",
     "output_type": "stream",
     "text": [
      "Permutación completa del dataset:\n"
     ]
    },
    {
     "data": {
      "text/html": [
       "<div>\n",
       "<style scoped>\n",
       "    .dataframe tbody tr th:only-of-type {\n",
       "        vertical-align: middle;\n",
       "    }\n",
       "\n",
       "    .dataframe tbody tr th {\n",
       "        vertical-align: top;\n",
       "    }\n",
       "\n",
       "    .dataframe thead th {\n",
       "        text-align: right;\n",
       "    }\n",
       "</style>\n",
       "<table border=\"1\" class=\"dataframe\">\n",
       "  <thead>\n",
       "    <tr style=\"text-align: right;\">\n",
       "      <th></th>\n",
       "      <th>nombre</th>\n",
       "      <th>categoria</th>\n",
       "      <th>precio</th>\n",
       "      <th>ventas</th>\n",
       "      <th>objetivo</th>\n",
       "      <th>fecha</th>\n",
       "      <th>estado</th>\n",
       "      <th>email</th>\n",
       "      <th>telefono</th>\n",
       "      <th>edad</th>\n",
       "      <th>ingreso</th>\n",
       "    </tr>\n",
       "  </thead>\n",
       "  <tbody>\n",
       "    <tr>\n",
       "      <th>0</th>\n",
       "      <td>Alberto Sánchez</td>\n",
       "      <td>Viajes</td>\n",
       "      <td>2500.00</td>\n",
       "      <td>30.0</td>\n",
       "      <td>35.0</td>\n",
       "      <td>2024/07/10</td>\n",
       "      <td>activo</td>\n",
       "      <td>alberto.sanchez@gmail.com</td>\n",
       "      <td>555-5555</td>\n",
       "      <td>37</td>\n",
       "      <td>85000.0</td>\n",
       "    </tr>\n",
       "    <tr>\n",
       "      <th>1</th>\n",
       "      <td>Francisco Gil</td>\n",
       "      <td>Arte</td>\n",
       "      <td>NaN</td>\n",
       "      <td>7.0</td>\n",
       "      <td>10.0</td>\n",
       "      <td>2024-03-15</td>\n",
       "      <td>activo</td>\n",
       "      <td>francisco.gil@hotmail.com</td>\n",
       "      <td>555.1111</td>\n",
       "      <td>28</td>\n",
       "      <td>33000.0</td>\n",
       "    </tr>\n",
       "    <tr>\n",
       "      <th>2</th>\n",
       "      <td>Roberto Silva</td>\n",
       "      <td>Hogar</td>\n",
       "      <td>$0</td>\n",
       "      <td>22.0</td>\n",
       "      <td>25.0</td>\n",
       "      <td>2023/07/30</td>\n",
       "      <td>activo</td>\n",
       "      <td>roberto.silva@gmail.com</td>\n",
       "      <td>555-3333</td>\n",
       "      <td>48</td>\n",
       "      <td>65000.0</td>\n",
       "    </tr>\n",
       "    <tr>\n",
       "      <th>3</th>\n",
       "      <td>NaN</td>\n",
       "      <td>Libros</td>\n",
       "      <td>125.50</td>\n",
       "      <td>5.0</td>\n",
       "      <td>8.0</td>\n",
       "      <td>2023-11-20</td>\n",
       "      <td>activo</td>\n",
       "      <td>fernando.luna@gmail.com</td>\n",
       "      <td>555-7777</td>\n",
       "      <td>39</td>\n",
       "      <td>35000.0</td>\n",
       "    </tr>\n",
       "    <tr>\n",
       "      <th>4</th>\n",
       "      <td>Pedro López</td>\n",
       "      <td>Electronicos</td>\n",
       "      <td>1100.00</td>\n",
       "      <td>25.0</td>\n",
       "      <td>30.0</td>\n",
       "      <td>2023/03/10</td>\n",
       "      <td>inactivo</td>\n",
       "      <td>pedro@email</td>\n",
       "      <td>5551234</td>\n",
       "      <td>42</td>\n",
       "      <td>NaN</td>\n",
       "    </tr>\n",
       "  </tbody>\n",
       "</table>\n",
       "</div>"
      ],
      "text/plain": [
       "            nombre     categoria   precio  ventas  objetivo       fecha  \\\n",
       "0  Alberto Sánchez        Viajes  2500.00    30.0      35.0  2024/07/10   \n",
       "1    Francisco Gil          Arte      NaN     7.0      10.0  2024-03-15   \n",
       "2    Roberto Silva         Hogar       $0    22.0      25.0  2023/07/30   \n",
       "3              NaN        Libros   125.50     5.0       8.0  2023-11-20   \n",
       "4      Pedro López  Electronicos  1100.00    25.0      30.0  2023/03/10   \n",
       "\n",
       "     estado                      email  telefono edad  ingreso  \n",
       "0    activo  alberto.sanchez@gmail.com  555-5555   37  85000.0  \n",
       "1    activo  francisco.gil@hotmail.com  555.1111   28  33000.0  \n",
       "2    activo    roberto.silva@gmail.com  555-3333   48  65000.0  \n",
       "3    activo    fernando.luna@gmail.com  555-7777   39  35000.0  \n",
       "4  inactivo                pedro@email   5551234   42      NaN  "
      ]
     },
     "execution_count": 8,
     "metadata": {},
     "output_type": "execute_result"
    }
   ],
   "source": [
    "# La permutación permite reorganizar aleatoriamente los datos en un orden diferente, lo cual es útil en validaciones cruzadas o en experimentos donde se desea eliminar el sesgo del orden original de los datos.\n",
    "\n",
    "# Permutación aleatoria de todas las filas\n",
    "df_permutado = df_muestreo.sample(frac=1).reset_index(drop=True)\n",
    "print(\"Permutación completa del dataset:\")\n",
    "df_permutado.head()"
   ]
  },
  {
   "cell_type": "code",
   "execution_count": 9,
   "id": "ddc3bde1-e74d-409c-9bbe-658705dcf465",
   "metadata": {},
   "outputs": [
    {
     "name": "stdout",
     "output_type": "stream",
     "text": [
      "Dataset original (primeras 5 filas):\n"
     ]
    },
    {
     "data": {
      "text/html": [
       "<div>\n",
       "<style scoped>\n",
       "    .dataframe tbody tr th:only-of-type {\n",
       "        vertical-align: middle;\n",
       "    }\n",
       "\n",
       "    .dataframe tbody tr th {\n",
       "        vertical-align: top;\n",
       "    }\n",
       "\n",
       "    .dataframe thead th {\n",
       "        text-align: right;\n",
       "    }\n",
       "</style>\n",
       "<table border=\"1\" class=\"dataframe\">\n",
       "  <thead>\n",
       "    <tr style=\"text-align: right;\">\n",
       "      <th></th>\n",
       "      <th>nombre</th>\n",
       "      <th>categoria</th>\n",
       "      <th>precio</th>\n",
       "    </tr>\n",
       "  </thead>\n",
       "  <tbody>\n",
       "    <tr>\n",
       "      <th>0</th>\n",
       "      <td>Juan Pérez</td>\n",
       "      <td>Electrónicos</td>\n",
       "      <td>$1250.50</td>\n",
       "    </tr>\n",
       "    <tr>\n",
       "      <th>1</th>\n",
       "      <td>María García</td>\n",
       "      <td>NaN</td>\n",
       "      <td>$850.00</td>\n",
       "    </tr>\n",
       "    <tr>\n",
       "      <th>2</th>\n",
       "      <td>Pedro López</td>\n",
       "      <td>Electronicos</td>\n",
       "      <td>1100.00</td>\n",
       "    </tr>\n",
       "    <tr>\n",
       "      <th>3</th>\n",
       "      <td>Ana Martínez</td>\n",
       "      <td>Ropa</td>\n",
       "      <td>450.75</td>\n",
       "    </tr>\n",
       "    <tr>\n",
       "      <th>4</th>\n",
       "      <td>Carlos Ruiz</td>\n",
       "      <td>ROPA</td>\n",
       "      <td>NaN</td>\n",
       "    </tr>\n",
       "  </tbody>\n",
       "</table>\n",
       "</div>"
      ],
      "text/plain": [
       "         nombre     categoria    precio\n",
       "0    Juan Pérez  Electrónicos  $1250.50\n",
       "1  María García           NaN   $850.00\n",
       "2   Pedro López  Electronicos   1100.00\n",
       "3  Ana Martínez          Ropa    450.75\n",
       "4   Carlos Ruiz          ROPA       NaN"
      ]
     },
     "execution_count": 9,
     "metadata": {},
     "output_type": "execute_result"
    }
   ],
   "source": [
    "# Comparación: primeras 5 filas antes y después de la permutación\n",
    "print(\"Dataset original (primeras 5 filas):\")\n",
    "df_muestreo[['nombre', 'categoria', 'precio']].head()"
   ]
  },
  {
   "cell_type": "code",
   "execution_count": 10,
   "id": "adc9e4e7-9b7d-4b53-b048-cc1d97382ee0",
   "metadata": {},
   "outputs": [
    {
     "name": "stdout",
     "output_type": "stream",
     "text": [
      "Dataset permutado (primeras 5 filas):\n"
     ]
    },
    {
     "data": {
      "text/html": [
       "<div>\n",
       "<style scoped>\n",
       "    .dataframe tbody tr th:only-of-type {\n",
       "        vertical-align: middle;\n",
       "    }\n",
       "\n",
       "    .dataframe tbody tr th {\n",
       "        vertical-align: top;\n",
       "    }\n",
       "\n",
       "    .dataframe thead th {\n",
       "        text-align: right;\n",
       "    }\n",
       "</style>\n",
       "<table border=\"1\" class=\"dataframe\">\n",
       "  <thead>\n",
       "    <tr style=\"text-align: right;\">\n",
       "      <th></th>\n",
       "      <th>nombre</th>\n",
       "      <th>categoria</th>\n",
       "      <th>precio</th>\n",
       "    </tr>\n",
       "  </thead>\n",
       "  <tbody>\n",
       "    <tr>\n",
       "      <th>0</th>\n",
       "      <td>Alberto Sánchez</td>\n",
       "      <td>Viajes</td>\n",
       "      <td>2500.00</td>\n",
       "    </tr>\n",
       "    <tr>\n",
       "      <th>1</th>\n",
       "      <td>Francisco Gil</td>\n",
       "      <td>Arte</td>\n",
       "      <td>NaN</td>\n",
       "    </tr>\n",
       "    <tr>\n",
       "      <th>2</th>\n",
       "      <td>Roberto Silva</td>\n",
       "      <td>Hogar</td>\n",
       "      <td>$0</td>\n",
       "    </tr>\n",
       "    <tr>\n",
       "      <th>3</th>\n",
       "      <td>NaN</td>\n",
       "      <td>Libros</td>\n",
       "      <td>125.50</td>\n",
       "    </tr>\n",
       "    <tr>\n",
       "      <th>4</th>\n",
       "      <td>Pedro López</td>\n",
       "      <td>Electronicos</td>\n",
       "      <td>1100.00</td>\n",
       "    </tr>\n",
       "  </tbody>\n",
       "</table>\n",
       "</div>"
      ],
      "text/plain": [
       "            nombre     categoria   precio\n",
       "0  Alberto Sánchez        Viajes  2500.00\n",
       "1    Francisco Gil          Arte      NaN\n",
       "2    Roberto Silva         Hogar       $0\n",
       "3              NaN        Libros   125.50\n",
       "4      Pedro López  Electronicos  1100.00"
      ]
     },
     "execution_count": 10,
     "metadata": {},
     "output_type": "execute_result"
    }
   ],
   "source": [
    "print(\"Dataset permutado (primeras 5 filas):\")\n",
    "df_permutado[['nombre', 'categoria', 'precio']].head()"
   ]
  },
  {
   "cell_type": "code",
   "execution_count": 11,
   "id": "2ed6409f-eec3-4fad-a8f6-47f25b621ce9",
   "metadata": {},
   "outputs": [
    {
     "name": "stdout",
     "output_type": "stream",
     "text": [
      "Ordenado por 'precio' (ascendente):\n"
     ]
    },
    {
     "data": {
      "text/html": [
       "<div>\n",
       "<style scoped>\n",
       "    .dataframe tbody tr th:only-of-type {\n",
       "        vertical-align: middle;\n",
       "    }\n",
       "\n",
       "    .dataframe tbody tr th {\n",
       "        vertical-align: top;\n",
       "    }\n",
       "\n",
       "    .dataframe thead th {\n",
       "        text-align: right;\n",
       "    }\n",
       "</style>\n",
       "<table border=\"1\" class=\"dataframe\">\n",
       "  <thead>\n",
       "    <tr style=\"text-align: right;\">\n",
       "      <th></th>\n",
       "      <th>nombre</th>\n",
       "      <th>categoria</th>\n",
       "      <th>precio</th>\n",
       "      <th>ventas</th>\n",
       "    </tr>\n",
       "  </thead>\n",
       "  <tbody>\n",
       "    <tr>\n",
       "      <th>6</th>\n",
       "      <td>Roberto Silva</td>\n",
       "      <td>Hogar</td>\n",
       "      <td>$0</td>\n",
       "      <td>22.0</td>\n",
       "    </tr>\n",
       "    <tr>\n",
       "      <th>19</th>\n",
       "      <td>Raúl Mendoza</td>\n",
       "      <td>Música</td>\n",
       "      <td>$1200.00</td>\n",
       "      <td>-5.0</td>\n",
       "    </tr>\n",
       "    <tr>\n",
       "      <th>0</th>\n",
       "      <td>Juan Pérez</td>\n",
       "      <td>Electrónicos</td>\n",
       "      <td>$1250.50</td>\n",
       "      <td>15.0</td>\n",
       "    </tr>\n",
       "    <tr>\n",
       "      <th>14</th>\n",
       "      <td>Miguel Torres</td>\n",
       "      <td>Salud</td>\n",
       "      <td>$675.30</td>\n",
       "      <td>11.0</td>\n",
       "    </tr>\n",
       "    <tr>\n",
       "      <th>7</th>\n",
       "      <td>Elena Vásquez</td>\n",
       "      <td>Deportes</td>\n",
       "      <td>$780.90</td>\n",
       "      <td>14.0</td>\n",
       "    </tr>\n",
       "  </tbody>\n",
       "</table>\n",
       "</div>"
      ],
      "text/plain": [
       "           nombre     categoria    precio  ventas\n",
       "6   Roberto Silva         Hogar        $0    22.0\n",
       "19   Raúl Mendoza        Música  $1200.00    -5.0\n",
       "0      Juan Pérez  Electrónicos  $1250.50    15.0\n",
       "14  Miguel Torres         Salud   $675.30    11.0\n",
       "7   Elena Vásquez      Deportes   $780.90    14.0"
      ]
     },
     "execution_count": 11,
     "metadata": {},
     "output_type": "execute_result"
    }
   ],
   "source": [
    "# El ordenamiento de los datos permite organizar la información según valores específicos. En Pandas, se puede ordenar de forma ascendente o descendente con sort_values().\n",
    "\n",
    "# Ordenar por la columna 'precio' de forma ascendente\n",
    "df_ordenado = df.sort_values('precio')\n",
    "\n",
    "# El ordenamiento no va a ser el esperado porque hay datos con el caracter $, Python interpreta Strings\n",
    "print(\"Ordenado por 'precio' (ascendente):\")\n",
    "df_ordenado[['nombre', 'categoria', 'precio', 'ventas']].head()"
   ]
  },
  {
   "cell_type": "code",
   "execution_count": 12,
   "id": "eb6ecfdd-e091-4e08-ac3f-5f1d026c2133",
   "metadata": {},
   "outputs": [
    {
     "name": "stdout",
     "output_type": "stream",
     "text": [
      "Ordenado por 'precio' (descendente):\n"
     ]
    },
    {
     "data": {
      "text/html": [
       "<div>\n",
       "<style scoped>\n",
       "    .dataframe tbody tr th:only-of-type {\n",
       "        vertical-align: middle;\n",
       "    }\n",
       "\n",
       "    .dataframe tbody tr th {\n",
       "        vertical-align: top;\n",
       "    }\n",
       "\n",
       "    .dataframe thead th {\n",
       "        text-align: right;\n",
       "    }\n",
       "</style>\n",
       "<table border=\"1\" class=\"dataframe\">\n",
       "  <thead>\n",
       "    <tr style=\"text-align: right;\">\n",
       "      <th></th>\n",
       "      <th>nombre</th>\n",
       "      <th>categoria</th>\n",
       "      <th>precio</th>\n",
       "      <th>ventas</th>\n",
       "    </tr>\n",
       "  </thead>\n",
       "  <tbody>\n",
       "    <tr>\n",
       "      <th>20</th>\n",
       "      <td>Patricia Jiménez</td>\n",
       "      <td>música</td>\n",
       "      <td>580.90</td>\n",
       "      <td>21.0</td>\n",
       "    </tr>\n",
       "    <tr>\n",
       "      <th>3</th>\n",
       "      <td>Ana Martínez</td>\n",
       "      <td>Ropa</td>\n",
       "      <td>450.75</td>\n",
       "      <td>NaN</td>\n",
       "    </tr>\n",
       "    <tr>\n",
       "      <th>18</th>\n",
       "      <td>Claudia Ruiz</td>\n",
       "      <td>NaN</td>\n",
       "      <td>445.80</td>\n",
       "      <td>13.0</td>\n",
       "    </tr>\n",
       "    <tr>\n",
       "      <th>5</th>\n",
       "      <td>NaN</td>\n",
       "      <td>Hogar</td>\n",
       "      <td>320.25</td>\n",
       "      <td>8.0</td>\n",
       "    </tr>\n",
       "    <tr>\n",
       "      <th>21</th>\n",
       "      <td>Alberto Sánchez</td>\n",
       "      <td>Viajes</td>\n",
       "      <td>2500.00</td>\n",
       "      <td>30.0</td>\n",
       "    </tr>\n",
       "  </tbody>\n",
       "</table>\n",
       "</div>"
      ],
      "text/plain": [
       "              nombre categoria   precio  ventas\n",
       "20  Patricia Jiménez    música   580.90    21.0\n",
       "3       Ana Martínez      Ropa   450.75     NaN\n",
       "18      Claudia Ruiz       NaN   445.80    13.0\n",
       "5                NaN     Hogar   320.25     8.0\n",
       "21   Alberto Sánchez    Viajes  2500.00    30.0"
      ]
     },
     "execution_count": 12,
     "metadata": {},
     "output_type": "execute_result"
    }
   ],
   "source": [
    "# Ordenar de forma descendente\n",
    "df_desc = df_ordenado.sort_values('precio', ascending=False)\n",
    "print(\"Ordenado por 'precio' (descendente):\")\n",
    "df_desc[['nombre', 'categoria', 'precio', 'ventas']].head()"
   ]
  },
  {
   "cell_type": "code",
   "execution_count": 13,
   "id": "1e64b3ff-98b9-4d67-80de-e1e3668df215",
   "metadata": {},
   "outputs": [
    {
     "name": "stdout",
     "output_type": "stream",
     "text": [
      "Ordenado por 'categoria' (ascendente) y luego por 'precio' (descendente):\n"
     ]
    },
    {
     "data": {
      "text/html": [
       "<div>\n",
       "<style scoped>\n",
       "    .dataframe tbody tr th:only-of-type {\n",
       "        vertical-align: middle;\n",
       "    }\n",
       "\n",
       "    .dataframe tbody tr th {\n",
       "        vertical-align: top;\n",
       "    }\n",
       "\n",
       "    .dataframe thead th {\n",
       "        text-align: right;\n",
       "    }\n",
       "</style>\n",
       "<table border=\"1\" class=\"dataframe\">\n",
       "  <thead>\n",
       "    <tr style=\"text-align: right;\">\n",
       "      <th></th>\n",
       "      <th>nombre</th>\n",
       "      <th>categoria</th>\n",
       "      <th>precio</th>\n",
       "      <th>ventas</th>\n",
       "    </tr>\n",
       "  </thead>\n",
       "  <tbody>\n",
       "    <tr>\n",
       "      <th>17</th>\n",
       "      <td>Francisco Gil</td>\n",
       "      <td>Arte</td>\n",
       "      <td>NaN</td>\n",
       "      <td>7.0</td>\n",
       "    </tr>\n",
       "    <tr>\n",
       "      <th>7</th>\n",
       "      <td>Elena Vásquez</td>\n",
       "      <td>Deportes</td>\n",
       "      <td>$780.90</td>\n",
       "      <td>14.0</td>\n",
       "    </tr>\n",
       "    <tr>\n",
       "      <th>2</th>\n",
       "      <td>Pedro López</td>\n",
       "      <td>Electronicos</td>\n",
       "      <td>1100.00</td>\n",
       "      <td>25.0</td>\n",
       "    </tr>\n",
       "    <tr>\n",
       "      <th>0</th>\n",
       "      <td>Juan Pérez</td>\n",
       "      <td>Electrónicos</td>\n",
       "      <td>$1250.50</td>\n",
       "      <td>15.0</td>\n",
       "    </tr>\n",
       "    <tr>\n",
       "      <th>5</th>\n",
       "      <td>NaN</td>\n",
       "      <td>Hogar</td>\n",
       "      <td>320.25</td>\n",
       "      <td>8.0</td>\n",
       "    </tr>\n",
       "    <tr>\n",
       "      <th>6</th>\n",
       "      <td>Roberto Silva</td>\n",
       "      <td>Hogar</td>\n",
       "      <td>$0</td>\n",
       "      <td>22.0</td>\n",
       "    </tr>\n",
       "    <tr>\n",
       "      <th>11</th>\n",
       "      <td>NaN</td>\n",
       "      <td>Libros</td>\n",
       "      <td>125.50</td>\n",
       "      <td>5.0</td>\n",
       "    </tr>\n",
       "    <tr>\n",
       "      <th>19</th>\n",
       "      <td>Raúl Mendoza</td>\n",
       "      <td>Música</td>\n",
       "      <td>$1200.00</td>\n",
       "      <td>-5.0</td>\n",
       "    </tr>\n",
       "    <tr>\n",
       "      <th>4</th>\n",
       "      <td>Carlos Ruiz</td>\n",
       "      <td>ROPA</td>\n",
       "      <td>NaN</td>\n",
       "      <td>18.0</td>\n",
       "    </tr>\n",
       "    <tr>\n",
       "      <th>8</th>\n",
       "      <td>Carlos Ruiz</td>\n",
       "      <td>ROPA</td>\n",
       "      <td>NaN</td>\n",
       "      <td>18.0</td>\n",
       "    </tr>\n",
       "  </tbody>\n",
       "</table>\n",
       "</div>"
      ],
      "text/plain": [
       "           nombre     categoria    precio  ventas\n",
       "17  Francisco Gil          Arte       NaN     7.0\n",
       "7   Elena Vásquez      Deportes   $780.90    14.0\n",
       "2     Pedro López  Electronicos   1100.00    25.0\n",
       "0      Juan Pérez  Electrónicos  $1250.50    15.0\n",
       "5             NaN         Hogar    320.25     8.0\n",
       "6   Roberto Silva         Hogar        $0    22.0\n",
       "11            NaN        Libros    125.50     5.0\n",
       "19   Raúl Mendoza        Música  $1200.00    -5.0\n",
       "4     Carlos Ruiz          ROPA       NaN    18.0\n",
       "8     Carlos Ruiz          ROPA       NaN    18.0"
      ]
     },
     "execution_count": 13,
     "metadata": {},
     "output_type": "execute_result"
    }
   ],
   "source": [
    "# También es posible ordenar por múltiples columnas, estableciendo prioridades en el ordenamiento.\n",
    "\n",
    "# Ordenar primero por 'categoria' y luego por 'precio'\n",
    "df_multi = df_ordenado.sort_values(['categoria', 'precio'], ascending=[True, False])\n",
    "print(\"Ordenado por 'categoria' (ascendente) y luego por 'precio' (descendente):\")\n",
    "df_multi[['nombre', 'categoria', 'precio', 'ventas']].head(10)"
   ]
  },
  {
   "cell_type": "markdown",
   "id": "e85c821e-00cc-4f0a-87a1-60d816f5e523",
   "metadata": {},
   "source": [
    "**Transformación de datos**"
   ]
  },
  {
   "cell_type": "code",
   "execution_count": 14,
   "id": "daf431a7-cd61-4535-95a6-2e7f0beac529",
   "metadata": {},
   "outputs": [
    {
     "name": "stdout",
     "output_type": "stream",
     "text": [
      "Fechas transformadas:\n",
      "0   2023-01-15\n",
      "1   2023-02-15\n",
      "2   2023-03-10\n",
      "3   2023-04-20\n",
      "4   2023-05-20\n",
      "5   2023-06-15\n",
      "6   2023-07-30\n",
      "7   2023-08-30\n",
      "Name: fecha, dtype: datetime64[ns]\n"
     ]
    }
   ],
   "source": [
    "# Transformación de fechas - maneja múltiples formatos automáticamente\n",
    "df['fecha'] = pd.to_datetime(df['fecha'], format='mixed', errors='coerce')\n",
    "print(\"Fechas transformadas:\")\n",
    "print(df['fecha'].head(8))"
   ]
  },
  {
   "cell_type": "code",
   "execution_count": 15,
   "id": "f7bfc7db-628c-4b1a-8cb8-0777bfcb5f78",
   "metadata": {},
   "outputs": [
    {
     "name": "stdout",
     "output_type": "stream",
     "text": [
      "Precios transformados:\n",
      "0    1250.50\n",
      "1     850.00\n",
      "2    1100.00\n",
      "3     450.75\n",
      "4        NaN\n",
      "5     320.25\n",
      "6       0.00\n",
      "7     780.90\n",
      "Name: precio, dtype: float64\n"
     ]
    }
   ],
   "source": [
    "# Transformación de precios - limpiar símbolos y convertir a numérico\n",
    "df['precio'] = df['precio'].astype(str).str.replace('[$€]', '', regex=True)\n",
    "df['precio'] = df['precio'].str.replace(',', '', regex=True)\n",
    "df['precio'] = pd.to_numeric(df['precio'], errors='coerce')\n",
    "\n",
    "print(\"Precios transformados:\")\n",
    "print(df['precio'].head(8))"
   ]
  },
  {
   "cell_type": "code",
   "execution_count": 16,
   "id": "8b84de59-6415-45c4-b958-2022959849cd",
   "metadata": {},
   "outputs": [
    {
     "name": "stdout",
     "output_type": "stream",
     "text": [
      "Tipos de datos después de la transformación:\n",
      "fecha     datetime64[ns]\n",
      "precio           float64\n",
      "dtype: object\n",
      "\n",
      "Fechas válidas: 22 de 23\n",
      "Precios válidos: 19 de 23\n"
     ]
    }
   ],
   "source": [
    "# Verificar las transformaciones\n",
    "print(\"Tipos de datos después de la transformación:\")\n",
    "print(df[['fecha', 'precio']].dtypes)\n",
    "print(f\"\\nFechas válidas: {df['fecha'].notna().sum()} de {len(df)}\")\n",
    "print(f\"Precios válidos: {df['precio'].notna().sum()} de {len(df)}\")"
   ]
  },
  {
   "cell_type": "code",
   "execution_count": 17,
   "id": "138c9184-c309-4583-8c59-3dd308c850d7",
   "metadata": {},
   "outputs": [
    {
     "name": "stdout",
     "output_type": "stream",
     "text": [
      "Datos transformados (primeras 8 filas):\n"
     ]
    },
    {
     "data": {
      "text/html": [
       "<div>\n",
       "<style scoped>\n",
       "    .dataframe tbody tr th:only-of-type {\n",
       "        vertical-align: middle;\n",
       "    }\n",
       "\n",
       "    .dataframe tbody tr th {\n",
       "        vertical-align: top;\n",
       "    }\n",
       "\n",
       "    .dataframe thead th {\n",
       "        text-align: right;\n",
       "    }\n",
       "</style>\n",
       "<table border=\"1\" class=\"dataframe\">\n",
       "  <thead>\n",
       "    <tr style=\"text-align: right;\">\n",
       "      <th></th>\n",
       "      <th>nombre</th>\n",
       "      <th>fecha</th>\n",
       "      <th>precio</th>\n",
       "    </tr>\n",
       "  </thead>\n",
       "  <tbody>\n",
       "    <tr>\n",
       "      <th>0</th>\n",
       "      <td>Juan Pérez</td>\n",
       "      <td>2023-01-15</td>\n",
       "      <td>1250.50</td>\n",
       "    </tr>\n",
       "    <tr>\n",
       "      <th>1</th>\n",
       "      <td>María García</td>\n",
       "      <td>2023-02-15</td>\n",
       "      <td>850.00</td>\n",
       "    </tr>\n",
       "    <tr>\n",
       "      <th>2</th>\n",
       "      <td>Pedro López</td>\n",
       "      <td>2023-03-10</td>\n",
       "      <td>1100.00</td>\n",
       "    </tr>\n",
       "    <tr>\n",
       "      <th>3</th>\n",
       "      <td>Ana Martínez</td>\n",
       "      <td>2023-04-20</td>\n",
       "      <td>450.75</td>\n",
       "    </tr>\n",
       "    <tr>\n",
       "      <th>4</th>\n",
       "      <td>Carlos Ruiz</td>\n",
       "      <td>2023-05-20</td>\n",
       "      <td>NaN</td>\n",
       "    </tr>\n",
       "    <tr>\n",
       "      <th>5</th>\n",
       "      <td>NaN</td>\n",
       "      <td>2023-06-15</td>\n",
       "      <td>320.25</td>\n",
       "    </tr>\n",
       "    <tr>\n",
       "      <th>6</th>\n",
       "      <td>Roberto Silva</td>\n",
       "      <td>2023-07-30</td>\n",
       "      <td>0.00</td>\n",
       "    </tr>\n",
       "    <tr>\n",
       "      <th>7</th>\n",
       "      <td>Elena Vásquez</td>\n",
       "      <td>2023-08-30</td>\n",
       "      <td>780.90</td>\n",
       "    </tr>\n",
       "  </tbody>\n",
       "</table>\n",
       "</div>"
      ],
      "text/plain": [
       "          nombre      fecha   precio\n",
       "0     Juan Pérez 2023-01-15  1250.50\n",
       "1   María García 2023-02-15   850.00\n",
       "2    Pedro López 2023-03-10  1100.00\n",
       "3   Ana Martínez 2023-04-20   450.75\n",
       "4    Carlos Ruiz 2023-05-20      NaN\n",
       "5            NaN 2023-06-15   320.25\n",
       "6  Roberto Silva 2023-07-30     0.00\n",
       "7  Elena Vásquez 2023-08-30   780.90"
      ]
     },
     "execution_count": 17,
     "metadata": {},
     "output_type": "execute_result"
    }
   ],
   "source": [
    "# Mostrar datos limpios\n",
    "print(\"Datos transformados (primeras 8 filas):\")\n",
    "df[['nombre', 'fecha', 'precio']].head(8)"
   ]
  },
  {
   "cell_type": "markdown",
   "id": "90bbb57e-eab9-411a-94ab-2c2cb868a45a",
   "metadata": {},
   "source": [
    "**Reordenamiento**"
   ]
  },
  {
   "cell_type": "code",
   "execution_count": 18,
   "id": "4407a0a6-24ea-42a2-9a9c-2f1eb9d5463d",
   "metadata": {},
   "outputs": [
    {
     "name": "stdout",
     "output_type": "stream",
     "text": [
      "Ordenado por 'precio' (ascendente):\n"
     ]
    },
    {
     "data": {
      "text/html": [
       "<div>\n",
       "<style scoped>\n",
       "    .dataframe tbody tr th:only-of-type {\n",
       "        vertical-align: middle;\n",
       "    }\n",
       "\n",
       "    .dataframe tbody tr th {\n",
       "        vertical-align: top;\n",
       "    }\n",
       "\n",
       "    .dataframe thead th {\n",
       "        text-align: right;\n",
       "    }\n",
       "</style>\n",
       "<table border=\"1\" class=\"dataframe\">\n",
       "  <thead>\n",
       "    <tr style=\"text-align: right;\">\n",
       "      <th></th>\n",
       "      <th>nombre</th>\n",
       "      <th>categoria</th>\n",
       "      <th>precio</th>\n",
       "      <th>ventas</th>\n",
       "    </tr>\n",
       "  </thead>\n",
       "  <tbody>\n",
       "    <tr>\n",
       "      <th>6</th>\n",
       "      <td>Roberto Silva</td>\n",
       "      <td>Hogar</td>\n",
       "      <td>0.00</td>\n",
       "      <td>22.0</td>\n",
       "    </tr>\n",
       "    <tr>\n",
       "      <th>11</th>\n",
       "      <td>NaN</td>\n",
       "      <td>Libros</td>\n",
       "      <td>125.50</td>\n",
       "      <td>5.0</td>\n",
       "    </tr>\n",
       "    <tr>\n",
       "      <th>5</th>\n",
       "      <td>NaN</td>\n",
       "      <td>Hogar</td>\n",
       "      <td>320.25</td>\n",
       "      <td>8.0</td>\n",
       "    </tr>\n",
       "    <tr>\n",
       "      <th>18</th>\n",
       "      <td>Claudia Ruiz</td>\n",
       "      <td>NaN</td>\n",
       "      <td>445.80</td>\n",
       "      <td>13.0</td>\n",
       "    </tr>\n",
       "    <tr>\n",
       "      <th>3</th>\n",
       "      <td>Ana Martínez</td>\n",
       "      <td>Ropa</td>\n",
       "      <td>450.75</td>\n",
       "      <td>NaN</td>\n",
       "    </tr>\n",
       "  </tbody>\n",
       "</table>\n",
       "</div>"
      ],
      "text/plain": [
       "           nombre categoria  precio  ventas\n",
       "6   Roberto Silva     Hogar    0.00    22.0\n",
       "11            NaN    Libros  125.50     5.0\n",
       "5             NaN     Hogar  320.25     8.0\n",
       "18   Claudia Ruiz       NaN  445.80    13.0\n",
       "3    Ana Martínez      Ropa  450.75     NaN"
      ]
     },
     "execution_count": 18,
     "metadata": {},
     "output_type": "execute_result"
    }
   ],
   "source": [
    "# El ordenamiento de los datos permite organizar la información según valores específicos. En Pandas, se puede ordenar de forma ascendente o descendente con sort_values().\n",
    "\n",
    "# Ordenar por la columna 'precio' de forma ascendente\n",
    "df_ordenado = df.sort_values('precio')\n",
    "\n",
    "# Ahora si el ordenamiento funcionará bien porque la columna 'precio' solo posee numéricos\n",
    "print(\"Ordenado por 'precio' (ascendente):\")\n",
    "df_ordenado[['nombre', 'categoria', 'precio', 'ventas']].head()"
   ]
  },
  {
   "cell_type": "markdown",
   "id": "839b5df9-dbef-41b9-9b40-94819bd94de3",
   "metadata": {},
   "source": [
    "**Detección y eliminación de duplicados**"
   ]
  },
  {
   "cell_type": "code",
   "execution_count": 19,
   "id": "d55b47e6-56e2-41b6-9c00-1600af7eec80",
   "metadata": {},
   "outputs": [
    {
     "name": "stdout",
     "output_type": "stream",
     "text": [
      "=== DETECCIÓN Y ELIMINACIÓN DE REGISTROS DUPLICADOS ===\n",
      "Proceso de 4 etapas: Identificación → Análisis → Eliminación → Verificación\n"
     ]
    }
   ],
   "source": [
    "# Detección y eliminación de registros duplicados\n",
    "print(\"=== DETECCIÓN Y ELIMINACIÓN DE REGISTROS DUPLICADOS ===\")\n",
    "print(\"Proceso de 4 etapas: Identificación → Análisis → Eliminación → Verificación\")"
   ]
  },
  {
   "cell_type": "code",
   "execution_count": 20,
   "id": "4f98ea80-ad1b-43fe-ade5-61b775d76059",
   "metadata": {},
   "outputs": [
    {
     "name": "stdout",
     "output_type": "stream",
     "text": [
      "--- 1. IDENTIFICACIÓN ---\n",
      "Registros duplicados encontrados: 3\n",
      "Filas duplicadas (True/False):\n",
      "0    False\n",
      "1    False\n",
      "2    False\n",
      "3    False\n",
      "4    False\n",
      "dtype: bool\n"
     ]
    }
   ],
   "source": [
    "# IDENTIFICACIÓN - Detectar registros duplicados\n",
    "print(\"--- 1. IDENTIFICACIÓN ---\")\n",
    "duplicados = df.duplicated()\n",
    "print(f\"Registros duplicados encontrados: {duplicados.sum()}\")\n",
    "print(f\"Filas duplicadas (True/False):\")\n",
    "print(duplicados.head())"
   ]
  },
  {
   "cell_type": "code",
   "execution_count": 21,
   "id": "8beedc35-2485-432a-b18a-c224fe169144",
   "metadata": {},
   "outputs": [
    {
     "name": "stdout",
     "output_type": "stream",
     "text": [
      "--- 2. ANÁLISIS ---\n",
      "Filas que son duplicados completos:\n"
     ]
    },
    {
     "data": {
      "text/html": [
       "<div>\n",
       "<style scoped>\n",
       "    .dataframe tbody tr th:only-of-type {\n",
       "        vertical-align: middle;\n",
       "    }\n",
       "\n",
       "    .dataframe tbody tr th {\n",
       "        vertical-align: top;\n",
       "    }\n",
       "\n",
       "    .dataframe thead th {\n",
       "        text-align: right;\n",
       "    }\n",
       "</style>\n",
       "<table border=\"1\" class=\"dataframe\">\n",
       "  <thead>\n",
       "    <tr style=\"text-align: right;\">\n",
       "      <th></th>\n",
       "      <th>nombre</th>\n",
       "      <th>categoria</th>\n",
       "      <th>precio</th>\n",
       "      <th>ventas</th>\n",
       "      <th>objetivo</th>\n",
       "      <th>fecha</th>\n",
       "      <th>estado</th>\n",
       "      <th>email</th>\n",
       "      <th>telefono</th>\n",
       "      <th>edad</th>\n",
       "      <th>ingreso</th>\n",
       "    </tr>\n",
       "  </thead>\n",
       "  <tbody>\n",
       "    <tr>\n",
       "      <th>8</th>\n",
       "      <td>Carlos Ruiz</td>\n",
       "      <td>ROPA</td>\n",
       "      <td>NaN</td>\n",
       "      <td>18.0</td>\n",
       "      <td>20.0</td>\n",
       "      <td>2023-05-20</td>\n",
       "      <td>Activo</td>\n",
       "      <td>carlos.ruiz@email.com</td>\n",
       "      <td>555 1111</td>\n",
       "      <td>abc</td>\n",
       "      <td>41000.0</td>\n",
       "    </tr>\n",
       "    <tr>\n",
       "      <th>15</th>\n",
       "      <td>Alberto Sánchez</td>\n",
       "      <td>Viajes</td>\n",
       "      <td>2500.0</td>\n",
       "      <td>30.0</td>\n",
       "      <td>35.0</td>\n",
       "      <td>2024-07-10</td>\n",
       "      <td>activo</td>\n",
       "      <td>alberto.sanchez@gmail.com</td>\n",
       "      <td>555-5555</td>\n",
       "      <td>37</td>\n",
       "      <td>85000.0</td>\n",
       "    </tr>\n",
       "    <tr>\n",
       "      <th>21</th>\n",
       "      <td>Alberto Sánchez</td>\n",
       "      <td>Viajes</td>\n",
       "      <td>2500.0</td>\n",
       "      <td>30.0</td>\n",
       "      <td>35.0</td>\n",
       "      <td>2024-07-10</td>\n",
       "      <td>activo</td>\n",
       "      <td>alberto.sanchez@gmail.com</td>\n",
       "      <td>555-5555</td>\n",
       "      <td>37</td>\n",
       "      <td>85000.0</td>\n",
       "    </tr>\n",
       "  </tbody>\n",
       "</table>\n",
       "</div>"
      ],
      "text/plain": [
       "             nombre categoria  precio  ventas  objetivo      fecha  estado  \\\n",
       "8       Carlos Ruiz      ROPA     NaN    18.0      20.0 2023-05-20  Activo   \n",
       "15  Alberto Sánchez    Viajes  2500.0    30.0      35.0 2024-07-10  activo   \n",
       "21  Alberto Sánchez    Viajes  2500.0    30.0      35.0 2024-07-10  activo   \n",
       "\n",
       "                        email  telefono edad  ingreso  \n",
       "8       carlos.ruiz@email.com  555 1111  abc  41000.0  \n",
       "15  alberto.sanchez@gmail.com  555-5555   37  85000.0  \n",
       "21  alberto.sanchez@gmail.com  555-5555   37  85000.0  "
      ]
     },
     "execution_count": 21,
     "metadata": {},
     "output_type": "execute_result"
    }
   ],
   "source": [
    "# ANÁLISIS - Ver las filas duplicadas\n",
    "print(\"--- 2. ANÁLISIS ---\")\n",
    "filas_duplicadas = df[df.duplicated()]\n",
    "print(f\"Filas que son duplicados completos:\")\n",
    "filas_duplicadas"
   ]
  },
  {
   "cell_type": "code",
   "execution_count": 22,
   "id": "d6f9a9c0-67e0-4f02-b7cb-c34d5ef399f7",
   "metadata": {},
   "outputs": [
    {
     "name": "stdout",
     "output_type": "stream",
     "text": [
      "Duplicados por email: 3\n"
     ]
    }
   ],
   "source": [
    "# También detectar duplicados por columnas específicas\n",
    "duplicados_email = df.duplicated(subset=['email'])\n",
    "print(f\"Duplicados por email: {duplicados_email.sum()}\")"
   ]
  },
  {
   "cell_type": "code",
   "execution_count": 23,
   "id": "badd073c-64c0-48fe-8e46-6dd21f394518",
   "metadata": {},
   "outputs": [
    {
     "name": "stdout",
     "output_type": "stream",
     "text": [
      "--- 3. ELIMINACIÓN ---\n",
      "Filas antes: 23\n",
      "Filas después: 20\n",
      "Duplicados eliminados: 3\n"
     ]
    }
   ],
   "source": [
    "# ELIMINACIÓN - Remover duplicados (conserva la primera ocurrencia)\n",
    "print(\"--- 3. ELIMINACIÓN ---\")\n",
    "df_sin_duplicados = df.drop_duplicates()\n",
    "print(f\"Filas antes: {len(df)}\")\n",
    "print(f\"Filas después: {len(df_sin_duplicados)}\")\n",
    "print(f\"Duplicados eliminados: {len(df) - len(df_sin_duplicados)}\")"
   ]
  },
  {
   "cell_type": "code",
   "execution_count": 24,
   "id": "1117d0c9-e270-4af7-a28a-013920a4fd7f",
   "metadata": {},
   "outputs": [
    {
     "name": "stdout",
     "output_type": "stream",
     "text": [
      "--- 4. VERIFICACIÓN ---\n",
      "Duplicados restantes: 0\n",
      "✓ Datos limpios y sin redundancias\n"
     ]
    }
   ],
   "source": [
    "# VERIFICACIÓN - Confirmar que los datos están limpios\n",
    "print(\"--- 4. VERIFICACIÓN ---\")\n",
    "verificacion = df_sin_duplicados.duplicated().sum()\n",
    "print(f\"Duplicados restantes: {verificacion}\")\n",
    "print(\"✓ Datos limpios y sin redundancias\" if verificacion == 0 else \"⚠ Aún hay duplicados\")"
   ]
  },
  {
   "cell_type": "markdown",
   "id": "cb5f472d-1304-4225-9057-05b7829f7c13",
   "metadata": {},
   "source": [
    "**Reemplazo de valores**"
   ]
  },
  {
   "cell_type": "code",
   "execution_count": 25,
   "id": "88106def-96cc-443c-82f6-11c27616f3fd",
   "metadata": {},
   "outputs": [
    {
     "name": "stdout",
     "output_type": "stream",
     "text": [
      "=== REEMPLAZO DE VALORES ===\n",
      "Corrección de valores incorrectos, mal escritos o inconsistentes\n"
     ]
    }
   ],
   "source": [
    "# Reemplazo de valores\n",
    "print(\"=== REEMPLAZO DE VALORES ===\")\n",
    "print(\"Corrección de valores incorrectos, mal escritos o inconsistentes\")"
   ]
  },
  {
   "cell_type": "code",
   "execution_count": 26,
   "id": "81675dfe-82c3-4607-8579-ffc2b8c2be13",
   "metadata": {},
   "outputs": [
    {
     "name": "stdout",
     "output_type": "stream",
     "text": [
      "--- REEMPLAZO SIMPLE ---\n",
      "Valores únicos en 'categoria' antes del reemplazo:\n",
      "categoria\n",
      "Viajes          3\n",
      "ROPA            2\n",
      "Hogar           2\n",
      "NaN             2\n",
      "Electrónicos    1\n",
      "libros          1\n",
      "música          1\n",
      "Música          1\n",
      "Arte            1\n",
      "SALUD           1\n",
      "Salud           1\n",
      "Libros          1\n",
      "Tecnología      1\n",
      "deportes        1\n",
      "Deportes        1\n",
      "Ropa            1\n",
      "Electronicos    1\n",
      "viajes          1\n",
      "Name: count, dtype: int64\n"
     ]
    }
   ],
   "source": [
    "# REEMPLAZO SIMPLE\n",
    "print(\"--- REEMPLAZO SIMPLE ---\")\n",
    "print(\"Valores únicos en 'categoria' antes del reemplazo:\")\n",
    "print(df['categoria'].value_counts(dropna=False))"
   ]
  },
  {
   "cell_type": "code",
   "execution_count": 27,
   "id": "fbb785da-1ced-4f47-882f-7a993228a080",
   "metadata": {},
   "outputs": [
    {
     "data": {
      "text/plain": [
       "0     Electrónicos\n",
       "1              NaN\n",
       "2     Electrónicos\n",
       "3             Ropa\n",
       "4             ROPA\n",
       "5            Hogar\n",
       "6            Hogar\n",
       "7         Deportes\n",
       "8             ROPA\n",
       "9         deportes\n",
       "10      Tecnología\n",
       "11          Libros\n",
       "12          Viajes\n",
       "13          libros\n",
       "14           Salud\n",
       "15          Viajes\n",
       "16           SALUD\n",
       "17            Arte\n",
       "18             NaN\n",
       "19          Música\n",
       "20          música\n",
       "21          Viajes\n",
       "22          viajes\n",
       "Name: categoria, dtype: object"
      ]
     },
     "execution_count": 27,
     "metadata": {},
     "output_type": "execute_result"
    }
   ],
   "source": [
    "# Reemplazar un valor específico\n",
    "df['categoria'] = df['categoria'].replace('Electronicos', 'Electrónicos')\n",
    "df['categoria']"
   ]
  },
  {
   "cell_type": "code",
   "execution_count": 28,
   "id": "feb981d9-4921-4202-92d0-facb09b4b1ae",
   "metadata": {},
   "outputs": [
    {
     "data": {
      "text/plain": [
       "0       Activo\n",
       "1       Activo\n",
       "2     Inactivo\n",
       "3       Activo\n",
       "4       Activo\n",
       "5     Inactivo\n",
       "6       Activo\n",
       "7          NaN\n",
       "8       Activo\n",
       "9       Activo\n",
       "10    Inactivo\n",
       "11      Activo\n",
       "12      Activo\n",
       "13      Activo\n",
       "14    Inactivo\n",
       "15      Activo\n",
       "16      Activo\n",
       "17      Activo\n",
       "18      Activo\n",
       "19    Inactivo\n",
       "20         NaN\n",
       "21      Activo\n",
       "22      Activo\n",
       "Name: estado, dtype: object"
      ]
     },
     "execution_count": 28,
     "metadata": {},
     "output_type": "execute_result"
    }
   ],
   "source": [
    "# Reemplazar múltiples valores usando diccionario\n",
    "df['estado'] = df['estado'].replace({\n",
    "    'Actvo': 'Activo',\n",
    "    'activo': 'Activo',\n",
    "    'ACTIVO': 'Activo',\n",
    "    'INACTIVO': 'Inactivo',\n",
    "    'inactivo': 'Inactivo'\n",
    "})\n",
    "df['estado']"
   ]
  },
  {
   "cell_type": "code",
   "execution_count": 29,
   "id": "4f6af1f3-2e42-4b47-8300-9ebcc8dae0b8",
   "metadata": {},
   "outputs": [
    {
     "name": "stdout",
     "output_type": "stream",
     "text": [
      "Valores en 'estado' después del reemplazo:\n",
      "estado\n",
      "Activo      16\n",
      "Inactivo     5\n",
      "NaN          2\n",
      "Name: count, dtype: int64\n"
     ]
    }
   ],
   "source": [
    "print(\"Valores en 'estado' después del reemplazo:\")\n",
    "print(df['estado'].value_counts(dropna=False))"
   ]
  },
  {
   "cell_type": "code",
   "execution_count": 30,
   "id": "f8ec5add-d8eb-4169-a803-f05edd69c9d8",
   "metadata": {},
   "outputs": [
    {
     "name": "stdout",
     "output_type": "stream",
     "text": [
      "--- REEMPLAZO CON EXPRESIONES REGULARES ---\n",
      "Formatos de teléfono antes del reemplazo:\n",
      "0    555-1234\n",
      "1    555.5678\n",
      "2     5551234\n",
      "3    555-9876\n",
      "4    555 1111\n",
      "5    555-2222\n",
      "6    555-3333\n",
      "7     5554444\n",
      "Name: telefono, dtype: object\n"
     ]
    }
   ],
   "source": [
    "# REEMPLAZO CON EXPRESIONES REGULARES\n",
    "print(\"--- REEMPLAZO CON EXPRESIONES REGULARES ---\")\n",
    "print(\"Formatos de teléfono antes del reemplazo:\")\n",
    "print(df['telefono'].head(8))"
   ]
  },
  {
   "cell_type": "code",
   "execution_count": 31,
   "id": "982a7349-ad09-4237-8baa-607b6225b285",
   "metadata": {},
   "outputs": [
    {
     "data": {
      "text/plain": [
       "0     (55) 51234\n",
       "1     (55) 55678\n",
       "2     (55) 51234\n",
       "3     (55) 59876\n",
       "4     (55) 51111\n",
       "5     (55) 52222\n",
       "6     (55) 53333\n",
       "7     (55) 54444\n",
       "8     (55) 51111\n",
       "9     (55) 55555\n",
       "10           NaN\n",
       "11    (55) 57777\n",
       "12    (55) 55555\n",
       "13    (55) 58888\n",
       "14    (55) 59999\n",
       "15    (55) 55555\n",
       "16    (55) 50000\n",
       "17    (55) 51111\n",
       "18    (55) 52222\n",
       "19    (55) 53333\n",
       "20    (55) 54444\n",
       "21    (55) 55555\n",
       "22    (55) 56666\n",
       "Name: telefono, dtype: object"
      ]
     },
     "execution_count": 31,
     "metadata": {},
     "output_type": "execute_result"
    }
   ],
   "source": [
    "# Limpiar TODOS los separadores primero\n",
    "df['telefono'] = df['telefono'].str.replace(r'[.\\s-]', '', regex=True)\n",
    "\n",
    "# Formatear números de 7 dígitos: XXXXXXX → XXX-XXXX\n",
    "df['telefono'] = df['telefono'].str.replace(\n",
    "    r'^(\\d{2})(\\d{5})$',\n",
    "    r'(\\1) \\2',\n",
    "    regex=True\n",
    ")\n",
    "\n",
    "df['telefono']"
   ]
  },
  {
   "cell_type": "code",
   "execution_count": 32,
   "id": "e13ebf46-e649-4714-a6ee-df5ae31a43ec",
   "metadata": {},
   "outputs": [
    {
     "name": "stdout",
     "output_type": "stream",
     "text": [
      "--- ESTANDARIZACIÓN DE CATEGORÍAS ---\n",
      "Categorías estandarizadas:\n",
      "categoria\n",
      "Viajes          4\n",
      "Ropa            3\n",
      "Electrónicos    2\n",
      "NaN             2\n",
      "Hogar           2\n",
      "Deportes        2\n",
      "Libros          2\n",
      "Salud           2\n",
      "Música          2\n",
      "Tecnología      1\n",
      "Arte            1\n",
      "Name: count, dtype: int64\n"
     ]
    }
   ],
   "source": [
    "# Estandarizar categorías con regex (mayúsculas/minúsculas)\n",
    "print(\"--- ESTANDARIZACIÓN DE CATEGORÍAS ---\")\n",
    "# Primera letra mayúscula\n",
    "df['categoria'] = df['categoria'].str.title()\n",
    "\n",
    "print(\"Categorías estandarizadas:\")\n",
    "print(df['categoria'].value_counts(dropna=False))"
   ]
  },
  {
   "cell_type": "code",
   "execution_count": 33,
   "id": "026f83e9-64b7-472b-8529-e42bba78c6c6",
   "metadata": {},
   "outputs": [
    {
     "name": "stdout",
     "output_type": "stream",
     "text": [
      "--- REEMPLAZO DE VALORES PROBLEMÁTICOS ---\n",
      "Valores nulos por columna después del reemplazo:\n",
      "nombre       2\n",
      "categoria    2\n",
      "precio       4\n",
      "ventas       1\n",
      "objetivo     1\n",
      "fecha        1\n",
      "estado       2\n",
      "email        1\n",
      "telefono     1\n",
      "edad         0\n",
      "ingreso      3\n",
      "dtype: int64\n",
      "\n"
     ]
    }
   ],
   "source": [
    "# Reemplazar valores nulos y problemáticos\n",
    "print(\"--- REEMPLAZO DE VALORES PROBLEMÁTICOS ---\")\n",
    "# Reemplazar valores que representan nulos\n",
    "df = df.replace(['null', 'n/a', '#N/A', 'N/A'], pd.NA)\n",
    "\n",
    "print(\"Valores nulos por columna después del reemplazo:\")\n",
    "print(df.isnull().sum())\n",
    "print()"
   ]
  },
  {
   "cell_type": "markdown",
   "id": "87a3465c-25d7-4b8d-8f47-55e6dbf6702a",
   "metadata": {},
   "source": [
    "**Conversión de columnas (tipos)**"
   ]
  },
  {
   "cell_type": "code",
   "execution_count": 34,
   "id": "c5bf41b4-08e3-45ae-a5c9-dfeb424dabc6",
   "metadata": {},
   "outputs": [
    {
     "name": "stdout",
     "output_type": "stream",
     "text": [
      "Convertir columna 'edad' a numérico:\n",
      "✓ Edades convertidas\n"
     ]
    }
   ],
   "source": [
    "# Conversión de edad a numérico\n",
    "print(\"Convertir columna 'edad' a numérico:\")\n",
    "df['edad'] = pd.to_numeric(df['edad'], errors='coerce')\n",
    "print(\"✓ Edades convertidas\")"
   ]
  },
  {
   "cell_type": "code",
   "execution_count": 35,
   "id": "b5047d48-0edb-4f10-aa64-0df5b67abc60",
   "metadata": {},
   "outputs": [
    {
     "name": "stdout",
     "output_type": "stream",
     "text": [
      "Convertir columna 'ingreso' a numérico:\n",
      "✓ Ingresos convertidos\n"
     ]
    }
   ],
   "source": [
    "# Conversión de ingresos a numérico\n",
    "print(\"Convertir columna 'ingreso' a numérico:\")\n",
    "df['ingreso'] = pd.to_numeric(df['ingreso'], errors='coerce')\n",
    "print(\"✓ Ingresos convertidos\")"
   ]
  },
  {
   "cell_type": "code",
   "execution_count": 36,
   "id": "1af2b6de-176f-4b8a-a634-b6f978f6d014",
   "metadata": {},
   "outputs": [
    {
     "name": "stdout",
     "output_type": "stream",
     "text": [
      "Convertir columna 'estado' a categoria:\n",
      "✓ Estados convertidos a categoría\n"
     ]
    }
   ],
   "source": [
    "# Conversión de categoría a tipo category (optimiza memoria)\n",
    "print(\"Convertir columna 'estado' a categoria:\")\n",
    "df['estado'] = df['estado'].astype('category')\n",
    "print(\"✓ Estados convertidos a categoría\")"
   ]
  },
  {
   "cell_type": "markdown",
   "id": "cf3b0ed4-4ffd-4f4f-97ce-2b8029668a38",
   "metadata": {},
   "source": [
    "**Volver a eliminar duplicados**"
   ]
  },
  {
   "cell_type": "code",
   "execution_count": 37,
   "id": "bf469789-23b7-4726-877e-e5ec57d6f587",
   "metadata": {},
   "outputs": [
    {
     "name": "stdout",
     "output_type": "stream",
     "text": [
      "=== DETECCIÓN Y ELIMINACIÓN DE REGISTROS DUPLICADOS ===\n",
      "Proceso de 4 etapas: Identificación → Análisis → Eliminación → Verificación\n",
      "\n",
      "--- 1. IDENTIFICACIÓN ---\n",
      "Registros duplicados encontrados: 3\n",
      "\n",
      "--- 2. ANÁLISIS ---\n",
      "Filas que son duplicados completos:\n",
      "             nombre categoria  precio\n",
      "8       Carlos Ruiz      Ropa     NaN\n",
      "15  Alberto Sánchez    Viajes  2500.0\n",
      "21  Alberto Sánchez    Viajes  2500.0\n",
      "\n",
      "--- 3. ELIMINACIÓN ---\n",
      "Filas antes: 23\n",
      "Filas después: 20\n",
      "Duplicados eliminados: 3\n",
      "\n",
      "--- 4. VERIFICACIÓN ---\n",
      "Duplicados restantes: 0\n",
      "✓ Datos limpios y sin redundancias\n",
      "\n"
     ]
    }
   ],
   "source": [
    "# === DETECCIÓN Y ELIMINACIÓN DE DUPLICADOS ===\n",
    "print(\"=== DETECCIÓN Y ELIMINACIÓN DE REGISTROS DUPLICADOS ===\")\n",
    "print(\"Proceso de 4 etapas: Identificación → Análisis → Eliminación → Verificación\")\n",
    "print()\n",
    "\n",
    "# 1. IDENTIFICACIÓN\n",
    "print(\"--- 1. IDENTIFICACIÓN ---\")\n",
    "duplicados = df.duplicated()\n",
    "print(f\"Registros duplicados encontrados: {duplicados.sum()}\")\n",
    "print()\n",
    "\n",
    "# 2. ANÁLISIS\n",
    "print(\"--- 2. ANÁLISIS ---\")\n",
    "filas_duplicadas = df[df.duplicated()]\n",
    "print(f\"Filas que son duplicados completos:\")\n",
    "print(filas_duplicadas[['nombre', 'categoria', 'precio']])\n",
    "print()\n",
    "\n",
    "# 3. ELIMINACIÓN\n",
    "print(\"--- 3. ELIMINACIÓN ---\")\n",
    "df_sin_duplicados = df.drop_duplicates()\n",
    "print(f\"Filas antes: {len(df)}\")\n",
    "print(f\"Filas después: {len(df_sin_duplicados)}\")\n",
    "print(f\"Duplicados eliminados: {len(df) - len(df_sin_duplicados)}\")\n",
    "print()\n",
    "\n",
    "# 4. VERIFICACIÓN\n",
    "print(\"--- 4. VERIFICACIÓN ---\")\n",
    "verificacion = df_sin_duplicados.duplicated().sum()\n",
    "print(f\"Duplicados restantes: {verificacion}\")\n",
    "print(\"✓ Datos limpios y sin redundancias\" if verificacion == 0 else \"⚠ Aún hay duplicados\")\n",
    "print()"
   ]
  },
  {
   "cell_type": "code",
   "execution_count": 38,
   "id": "f5137767-570d-4673-924d-df33e36f7b3e",
   "metadata": {},
   "outputs": [
    {
     "name": "stdout",
     "output_type": "stream",
     "text": [
      "Categorías estandarizadas:\n",
      "categoria\n",
      "Viajes          4\n",
      "Ropa            3\n",
      "Electrónicos    2\n",
      "NaN             2\n",
      "Hogar           2\n",
      "Deportes        2\n",
      "Libros          2\n",
      "Salud           2\n",
      "Música          2\n",
      "Tecnología      1\n",
      "Arte            1\n",
      "Name: count, dtype: int64\n",
      "\n",
      "--- REEMPLAZO DE VALORES PROBLEMÁTICOS ---\n",
      "Valores nulos por columna después del reemplazo:\n",
      "nombre       2\n",
      "categoria    2\n",
      "precio       4\n",
      "ventas       1\n",
      "objetivo     1\n",
      "fecha        1\n",
      "estado       2\n",
      "email        1\n",
      "telefono     1\n",
      "edad         2\n",
      "ingreso      3\n",
      "dtype: int64\n"
     ]
    }
   ],
   "source": [
    "# Estandarizar categorías\n",
    "df['categoria'] = df['categoria'].str.title()\n",
    "print(\"Categorías estandarizadas:\")\n",
    "print(df['categoria'].value_counts(dropna=False))\n",
    "print()\n",
    "\n",
    "# REEMPLAZO DE VALORES PROBLEMÁTICOS\n",
    "print(\"--- REEMPLAZO DE VALORES PROBLEMÁTICOS ---\")\n",
    "# Reemplazar valores que representan nulos\n",
    "df = df.replace(['null', 'n/a', '#N/A', 'N/A'], pd.NA)\n",
    "\n",
    "print(\"Valores nulos por columna después del reemplazo:\")\n",
    "print(df.isnull().sum())"
   ]
  },
  {
   "cell_type": "markdown",
   "id": "3d85f8cc-a2f7-4ebc-aa55-3c30f431ceb2",
   "metadata": {},
   "source": [
    "**Manejo de valores perdidos (nulos) más imputación**"
   ]
  },
  {
   "cell_type": "code",
   "execution_count": 39,
   "id": "e94896fe-d29b-43da-9273-c82ec12e7dbe",
   "metadata": {},
   "outputs": [
    {
     "name": "stdout",
     "output_type": "stream",
     "text": [
      "--- IMPUTACIÓN ---\n",
      "Reemplazar valores faltantes con valores estimados o calculados\n"
     ]
    }
   ],
   "source": [
    "# IMPUTACIÓN\n",
    "print(\"--- IMPUTACIÓN ---\")\n",
    "print(\"Reemplazar valores faltantes con valores estimados o calculados\")\n",
    "\n",
    "# Crear una copia para imputación\n",
    "df_imputado = df.copy()"
   ]
  },
  {
   "cell_type": "code",
   "execution_count": 40,
   "id": "37f9d69a-09ca-4925-852f-eb072cbd01f3",
   "metadata": {},
   "outputs": [
    {
     "name": "stdout",
     "output_type": "stream",
     "text": [
      "✓ Edad: 2 valores imputados con mediana (35.0)\n"
     ]
    }
   ],
   "source": [
    "# Imputar edad con la mediana\n",
    "if df_imputado['edad'].isnull().sum() > 0:\n",
    "    nulos_edad = df_imputado['edad'].isnull().sum()\n",
    "    mediana_edad = df_imputado['edad'].median()\n",
    "    df_imputado['edad'] = df_imputado['edad'].fillna(mediana_edad)\n",
    "    print(f\"✓ Edad: {nulos_edad} valores imputados con mediana ({mediana_edad})\")"
   ]
  },
  {
   "cell_type": "code",
   "execution_count": 41,
   "id": "4f4d9982-9df3-4d83-a650-00cf363e88d5",
   "metadata": {},
   "outputs": [
    {
     "name": "stdout",
     "output_type": "stream",
     "text": [
      "✓ Ingresos: 3 valores imputados con mediana (46500.0)\n"
     ]
    }
   ],
   "source": [
    "# Imputar ingresos con la mediana\n",
    "if df_imputado['ingreso'].isnull().sum() > 0:\n",
    "    nulos_ingreso = df_imputado['ingreso'].isnull().sum()\n",
    "    mediana_ingreso = df_imputado['ingreso'].median()\n",
    "    df_imputado['ingreso'] = df_imputado['ingreso'].fillna(mediana_ingreso)\n",
    "    print(f\"✓ Ingresos: {nulos_ingreso} valores imputados con mediana ({mediana_ingreso})\")"
   ]
  },
  {
   "cell_type": "code",
   "execution_count": 42,
   "id": "7434aa96-73bf-4b1c-bf4c-c5952f6737cb",
   "metadata": {},
   "outputs": [
    {
     "name": "stdout",
     "output_type": "stream",
     "text": [
      "✓ Categoría: 2 valores imputados con moda ('Viajes')\n"
     ]
    }
   ],
   "source": [
    "# Imputar categoría con la moda (valor más frecuente)\n",
    "if df_imputado['categoria'].isnull().sum() > 0:\n",
    "    nulos_categoria = df_imputado['categoria'].isnull().sum()\n",
    "    moda_categoria = df_imputado['categoria'].mode()[0]\n",
    "    df_imputado['categoria'] = df_imputado['categoria'].fillna(moda_categoria)\n",
    "    print(f\"✓ Categoría: {nulos_categoria} valores imputados con moda ('{moda_categoria}')\")"
   ]
  },
  {
   "cell_type": "code",
   "execution_count": 43,
   "id": "1fb7bfd9-d787-47af-85cb-3c80b341727b",
   "metadata": {},
   "outputs": [
    {
     "name": "stdout",
     "output_type": "stream",
     "text": [
      "✓ Ventas: 1 valores imputados con 0\n"
     ]
    }
   ],
   "source": [
    "# Imputar ventas con 0 (valor específico para este caso de negocio)\n",
    "if df_imputado['ventas'].isnull().sum() > 0:\n",
    "    ventas_nulas = df_imputado['ventas'].isnull().sum()\n",
    "    df_imputado['ventas'] = df_imputado['ventas'].fillna(0)\n",
    "    print(f\"✓ Ventas: {ventas_nulas} valores imputados con 0\")"
   ]
  },
  {
   "cell_type": "code",
   "execution_count": 44,
   "id": "56d40a88-bb23-4374-9f58-f91565c601be",
   "metadata": {},
   "outputs": [
    {
     "name": "stdout",
     "output_type": "stream",
     "text": [
      "✓ Precios: 4 valores imputados con promedio por categoría\n"
     ]
    }
   ],
   "source": [
    "# Imputar precios con la media de la categoría\n",
    "if df_imputado['precio'].isnull().sum() > 0:\n",
    "    precios_nulos = df_imputado['precio'].isnull().sum()\n",
    "    # Calcular precio promedio por categoría\n",
    "    precio_por_categoria = df_imputado.groupby('categoria')['precio'].mean()\n",
    "\n",
    "    # Función para imputar precio basado en categoría\n",
    "    def imputar_precio(row):\n",
    "        if pd.isnull(row['precio']) and not pd.isnull(row['categoria']):\n",
    "            return precio_por_categoria.get(row['categoria'], df_imputado['precio'].mean())\n",
    "        return row['precio']\n",
    "\n",
    "    df_imputado['precio'] = df_imputado.apply(imputar_precio, axis=1)\n",
    "    print(f\"✓ Precios: {precios_nulos} valores imputados con promedio por categoría\")"
   ]
  },
  {
   "cell_type": "code",
   "execution_count": 45,
   "id": "b45632eb-d4df-494b-ab22-cf8294ffbee9",
   "metadata": {},
   "outputs": [
    {
     "name": "stdout",
     "output_type": "stream",
     "text": [
      "✓ Nombres: 2 valores imputados con 'Cliente Anónimo'\n"
     ]
    }
   ],
   "source": [
    "if df_imputado['nombre'].isnull().sum() > 0:\n",
    "    nombres_nulos = df_imputado['nombre'].isnull().sum()\n",
    "    df_imputado['nombre'] = df_imputado['nombre'].fillna('Cliente Anónimo')\n",
    "    print(f\"✓ Nombres: {nombres_nulos} valores imputados con 'Cliente Anónimo'\")"
   ]
  },
  {
   "cell_type": "code",
   "execution_count": 46,
   "id": "40548128-d46b-46d1-91d0-a9896a6890f8",
   "metadata": {},
   "outputs": [
    {
     "name": "stdout",
     "output_type": "stream",
     "text": [
      "--- VERIFICACIÓN FINAL ---\n",
      "Estado después del manejo de valores nulos:\n",
      "Valores nulos restantes:\n",
      "nombre       0\n",
      "categoria    0\n",
      "precio       1\n",
      "ventas       0\n",
      "objetivo     1\n",
      "fecha        1\n",
      "estado       2\n",
      "email        1\n",
      "telefono     1\n",
      "edad         0\n",
      "ingreso      0\n",
      "dtype: int64\n",
      "\n",
      "⚠️  Quedan 7 valores nulos por manejar\n",
      "\n"
     ]
    }
   ],
   "source": [
    "# VERIFICACIÓN FINAL\n",
    "print(\"--- VERIFICACIÓN FINAL ---\")\n",
    "print(\"Estado después del manejo de valores nulos:\")\n",
    "print(\"Valores nulos restantes:\")\n",
    "nulos_finales = df_imputado.isnull().sum()\n",
    "print(nulos_finales)\n",
    "print()\n",
    "\n",
    "total_nulos = nulos_finales.sum()\n",
    "if total_nulos == 0:\n",
    "    print(\"🎉 ¡Perfecto! No quedan valores nulos en el dataset\")\n",
    "else:\n",
    "    print(f\"⚠️  Quedan {total_nulos} valores nulos por manejar\")\n",
    "print()"
   ]
  }
 ],
 "metadata": {
  "kernelspec": {
   "display_name": "Python 3 (ipykernel)",
   "language": "python",
   "name": "python3"
  },
  "language_info": {
   "codemirror_mode": {
    "name": "ipython",
    "version": 3
   },
   "file_extension": ".py",
   "mimetype": "text/x-python",
   "name": "python",
   "nbconvert_exporter": "python",
   "pygments_lexer": "ipython3",
   "version": "3.12.7"
  }
 },
 "nbformat": 4,
 "nbformat_minor": 5
}
