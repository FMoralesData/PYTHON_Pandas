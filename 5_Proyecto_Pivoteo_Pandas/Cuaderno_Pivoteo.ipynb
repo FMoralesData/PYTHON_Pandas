{
 "cells": [
  {
   "cell_type": "markdown",
   "id": "f65f3a46-0f59-41e7-8d33-0b0c8b9be653",
   "metadata": {},
   "source": [
    "**Importación de librerías y cargado de datos**"
   ]
  },
  {
   "cell_type": "code",
   "execution_count": 1,
   "id": "1d052b4b-5683-416f-a728-1ceaedd0be7b",
   "metadata": {},
   "outputs": [
    {
     "name": "stdout",
     "output_type": "stream",
     "text": [
      "Importación ok. Versión de Pandas instalada = 2.2.2\n",
      "Importación ok. Versión de NumPy instalada = 1.26.4\n"
     ]
    }
   ],
   "source": [
    "import pandas as pd\n",
    "import numpy as np\n",
    "\n",
    "print(F\"Importación ok. Versión de Pandas instalada = {pd.__version__}\")\n",
    "print(F\"Importación ok. Versión de NumPy instalada = {np.__version__}\")"
   ]
  },
  {
   "cell_type": "code",
   "execution_count": 2,
   "id": "fb242d38-5318-4223-9e9f-c014160fdd59",
   "metadata": {},
   "outputs": [
    {
     "data": {
      "text/html": [
       "<div>\n",
       "<style scoped>\n",
       "    .dataframe tbody tr th:only-of-type {\n",
       "        vertical-align: middle;\n",
       "    }\n",
       "\n",
       "    .dataframe tbody tr th {\n",
       "        vertical-align: top;\n",
       "    }\n",
       "\n",
       "    .dataframe thead th {\n",
       "        text-align: right;\n",
       "    }\n",
       "</style>\n",
       "<table border=\"1\" class=\"dataframe\">\n",
       "  <thead>\n",
       "    <tr style=\"text-align: right;\">\n",
       "      <th></th>\n",
       "      <th>Región</th>\n",
       "      <th>Producto</th>\n",
       "      <th>Mes</th>\n",
       "      <th>Ventas</th>\n",
       "      <th>Unidades</th>\n",
       "    </tr>\n",
       "  </thead>\n",
       "  <tbody>\n",
       "    <tr>\n",
       "      <th>0</th>\n",
       "      <td>Centro</td>\n",
       "      <td>A</td>\n",
       "      <td>Enero</td>\n",
       "      <td>305</td>\n",
       "      <td>48</td>\n",
       "    </tr>\n",
       "    <tr>\n",
       "      <th>1</th>\n",
       "      <td>Norte</td>\n",
       "      <td>A</td>\n",
       "      <td>Marzo</td>\n",
       "      <td>180</td>\n",
       "      <td>15</td>\n",
       "    </tr>\n",
       "    <tr>\n",
       "      <th>2</th>\n",
       "      <td>Centro</td>\n",
       "      <td>B</td>\n",
       "      <td>Marzo</td>\n",
       "      <td>661</td>\n",
       "      <td>8</td>\n",
       "    </tr>\n",
       "    <tr>\n",
       "      <th>3</th>\n",
       "      <td>Centro</td>\n",
       "      <td>B</td>\n",
       "      <td>Enero</td>\n",
       "      <td>971</td>\n",
       "      <td>14</td>\n",
       "    </tr>\n",
       "    <tr>\n",
       "      <th>4</th>\n",
       "      <td>Norte</td>\n",
       "      <td>A</td>\n",
       "      <td>Enero</td>\n",
       "      <td>487</td>\n",
       "      <td>23</td>\n",
       "    </tr>\n",
       "    <tr>\n",
       "      <th>5</th>\n",
       "      <td>Norte</td>\n",
       "      <td>A</td>\n",
       "      <td>Marzo</td>\n",
       "      <td>101</td>\n",
       "      <td>40</td>\n",
       "    </tr>\n",
       "    <tr>\n",
       "      <th>6</th>\n",
       "      <td>Centro</td>\n",
       "      <td>A</td>\n",
       "      <td>Febrero</td>\n",
       "      <td>489</td>\n",
       "      <td>21</td>\n",
       "    </tr>\n",
       "    <tr>\n",
       "      <th>7</th>\n",
       "      <td>Sur</td>\n",
       "      <td>C</td>\n",
       "      <td>Enero</td>\n",
       "      <td>665</td>\n",
       "      <td>16</td>\n",
       "    </tr>\n",
       "    <tr>\n",
       "      <th>8</th>\n",
       "      <td>Centro</td>\n",
       "      <td>C</td>\n",
       "      <td>Febrero</td>\n",
       "      <td>205</td>\n",
       "      <td>45</td>\n",
       "    </tr>\n",
       "    <tr>\n",
       "      <th>9</th>\n",
       "      <td>Centro</td>\n",
       "      <td>C</td>\n",
       "      <td>Febrero</td>\n",
       "      <td>871</td>\n",
       "      <td>18</td>\n",
       "    </tr>\n",
       "    <tr>\n",
       "      <th>10</th>\n",
       "      <td>Centro</td>\n",
       "      <td>B</td>\n",
       "      <td>Febrero</td>\n",
       "      <td>921</td>\n",
       "      <td>47</td>\n",
       "    </tr>\n",
       "    <tr>\n",
       "      <th>11</th>\n",
       "      <td>Centro</td>\n",
       "      <td>C</td>\n",
       "      <td>Enero</td>\n",
       "      <td>576</td>\n",
       "      <td>24</td>\n",
       "    </tr>\n",
       "    <tr>\n",
       "      <th>12</th>\n",
       "      <td>Norte</td>\n",
       "      <td>B</td>\n",
       "      <td>Febrero</td>\n",
       "      <td>802</td>\n",
       "      <td>26</td>\n",
       "    </tr>\n",
       "    <tr>\n",
       "      <th>13</th>\n",
       "      <td>Centro</td>\n",
       "      <td>B</td>\n",
       "      <td>Enero</td>\n",
       "      <td>501</td>\n",
       "      <td>25</td>\n",
       "    </tr>\n",
       "    <tr>\n",
       "      <th>14</th>\n",
       "      <td>Sur</td>\n",
       "      <td>C</td>\n",
       "      <td>Febrero</td>\n",
       "      <td>829</td>\n",
       "      <td>45</td>\n",
       "    </tr>\n",
       "    <tr>\n",
       "      <th>15</th>\n",
       "      <td>Norte</td>\n",
       "      <td>B</td>\n",
       "      <td>Marzo</td>\n",
       "      <td>655</td>\n",
       "      <td>41</td>\n",
       "    </tr>\n",
       "    <tr>\n",
       "      <th>16</th>\n",
       "      <td>Sur</td>\n",
       "      <td>C</td>\n",
       "      <td>Marzo</td>\n",
       "      <td>261</td>\n",
       "      <td>29</td>\n",
       "    </tr>\n",
       "    <tr>\n",
       "      <th>17</th>\n",
       "      <td>Sur</td>\n",
       "      <td>C</td>\n",
       "      <td>Enero</td>\n",
       "      <td>301</td>\n",
       "      <td>15</td>\n",
       "    </tr>\n",
       "    <tr>\n",
       "      <th>18</th>\n",
       "      <td>Sur</td>\n",
       "      <td>A</td>\n",
       "      <td>Marzo</td>\n",
       "      <td>369</td>\n",
       "      <td>45</td>\n",
       "    </tr>\n",
       "    <tr>\n",
       "      <th>19</th>\n",
       "      <td>Sur</td>\n",
       "      <td>C</td>\n",
       "      <td>Marzo</td>\n",
       "      <td>962</td>\n",
       "      <td>1</td>\n",
       "    </tr>\n",
       "  </tbody>\n",
       "</table>\n",
       "</div>"
      ],
      "text/plain": [
       "    Región Producto      Mes  Ventas  Unidades\n",
       "0   Centro        A    Enero     305        48\n",
       "1    Norte        A    Marzo     180        15\n",
       "2   Centro        B    Marzo     661         8\n",
       "3   Centro        B    Enero     971        14\n",
       "4    Norte        A    Enero     487        23\n",
       "5    Norte        A    Marzo     101        40\n",
       "6   Centro        A  Febrero     489        21\n",
       "7      Sur        C    Enero     665        16\n",
       "8   Centro        C  Febrero     205        45\n",
       "9   Centro        C  Febrero     871        18\n",
       "10  Centro        B  Febrero     921        47\n",
       "11  Centro        C    Enero     576        24\n",
       "12   Norte        B  Febrero     802        26\n",
       "13  Centro        B    Enero     501        25\n",
       "14     Sur        C  Febrero     829        45\n",
       "15   Norte        B    Marzo     655        41\n",
       "16     Sur        C    Marzo     261        29\n",
       "17     Sur        C    Enero     301        15\n",
       "18     Sur        A    Marzo     369        45\n",
       "19     Sur        C    Marzo     962         1"
      ]
     },
     "execution_count": 2,
     "metadata": {},
     "output_type": "execute_result"
    }
   ],
   "source": [
    "df = pd.read_csv(\"datos_ejemplo.csv\")\n",
    "df"
   ]
  },
  {
   "cell_type": "code",
   "execution_count": 3,
   "id": "fb8e5949-deae-4286-8e8f-b4c80ec3d449",
   "metadata": {},
   "outputs": [
    {
     "name": "stdout",
     "output_type": "stream",
     "text": [
      "📊 DATOS ORIGINALES\n",
      "   Región Producto    Mes  Ventas  Unidades\n",
      "0  Centro        A  Enero     305        48\n",
      "1   Norte        A  Marzo     180        15\n",
      "2  Centro        B  Marzo     661         8\n",
      "3  Centro        B  Enero     971        14\n",
      "4   Norte        A  Enero     487        23\n",
      "\n",
      "Shape: (20, 5)\n"
     ]
    }
   ],
   "source": [
    "print(\"📊 DATOS ORIGINALES\")\n",
    "print(df.head())\n",
    "print(f\"\\nShape: {df.shape}\")"
   ]
  },
  {
   "cell_type": "code",
   "execution_count": 4,
   "id": "d312239f-3a94-49cf-9487-e3d9d8cbe988",
   "metadata": {},
   "outputs": [
    {
     "name": "stdout",
     "output_type": "stream",
     "text": [
      "DataFrame con índice jerárquico (Región, Producto):\n"
     ]
    },
    {
     "data": {
      "text/html": [
       "<div>\n",
       "<style scoped>\n",
       "    .dataframe tbody tr th:only-of-type {\n",
       "        vertical-align: middle;\n",
       "    }\n",
       "\n",
       "    .dataframe tbody tr th {\n",
       "        vertical-align: top;\n",
       "    }\n",
       "\n",
       "    .dataframe thead th {\n",
       "        text-align: right;\n",
       "    }\n",
       "</style>\n",
       "<table border=\"1\" class=\"dataframe\">\n",
       "  <thead>\n",
       "    <tr style=\"text-align: right;\">\n",
       "      <th></th>\n",
       "      <th></th>\n",
       "      <th>Mes</th>\n",
       "      <th>Ventas</th>\n",
       "      <th>Unidades</th>\n",
       "    </tr>\n",
       "    <tr>\n",
       "      <th>Región</th>\n",
       "      <th>Producto</th>\n",
       "      <th></th>\n",
       "      <th></th>\n",
       "      <th></th>\n",
       "    </tr>\n",
       "  </thead>\n",
       "  <tbody>\n",
       "    <tr>\n",
       "      <th rowspan=\"8\" valign=\"top\">Centro</th>\n",
       "      <th>A</th>\n",
       "      <td>Enero</td>\n",
       "      <td>305</td>\n",
       "      <td>48</td>\n",
       "    </tr>\n",
       "    <tr>\n",
       "      <th>A</th>\n",
       "      <td>Febrero</td>\n",
       "      <td>489</td>\n",
       "      <td>21</td>\n",
       "    </tr>\n",
       "    <tr>\n",
       "      <th>B</th>\n",
       "      <td>Marzo</td>\n",
       "      <td>661</td>\n",
       "      <td>8</td>\n",
       "    </tr>\n",
       "    <tr>\n",
       "      <th>B</th>\n",
       "      <td>Enero</td>\n",
       "      <td>971</td>\n",
       "      <td>14</td>\n",
       "    </tr>\n",
       "    <tr>\n",
       "      <th>B</th>\n",
       "      <td>Febrero</td>\n",
       "      <td>921</td>\n",
       "      <td>47</td>\n",
       "    </tr>\n",
       "    <tr>\n",
       "      <th>B</th>\n",
       "      <td>Enero</td>\n",
       "      <td>501</td>\n",
       "      <td>25</td>\n",
       "    </tr>\n",
       "    <tr>\n",
       "      <th>C</th>\n",
       "      <td>Febrero</td>\n",
       "      <td>205</td>\n",
       "      <td>45</td>\n",
       "    </tr>\n",
       "    <tr>\n",
       "      <th>C</th>\n",
       "      <td>Febrero</td>\n",
       "      <td>871</td>\n",
       "      <td>18</td>\n",
       "    </tr>\n",
       "  </tbody>\n",
       "</table>\n",
       "</div>"
      ],
      "text/plain": [
       "                     Mes  Ventas  Unidades\n",
       "Región Producto                           \n",
       "Centro A           Enero     305        48\n",
       "       A         Febrero     489        21\n",
       "       B           Marzo     661         8\n",
       "       B           Enero     971        14\n",
       "       B         Febrero     921        47\n",
       "       B           Enero     501        25\n",
       "       C         Febrero     205        45\n",
       "       C         Febrero     871        18"
      ]
     },
     "execution_count": 4,
     "metadata": {},
     "output_type": "execute_result"
    }
   ],
   "source": [
    "# Crear índice jerárquico con Región y Producto\n",
    "df_jerarquico = df.set_index(['Región', 'Producto']).sort_index()  # ✅ Ordenar el índice\n",
    "print(\"DataFrame con índice jerárquico (Región, Producto):\")\n",
    "df_jerarquico.head(8)"
   ]
  },
  {
   "cell_type": "code",
   "execution_count": 5,
   "id": "ae083cd5-7353-45a6-93f8-2570ae2e0ce8",
   "metadata": {},
   "outputs": [
    {
     "name": "stdout",
     "output_type": "stream",
     "text": [
      "\n",
      "📍 Acceso a datos del Centro:\n"
     ]
    },
    {
     "data": {
      "text/html": [
       "<div>\n",
       "<style scoped>\n",
       "    .dataframe tbody tr th:only-of-type {\n",
       "        vertical-align: middle;\n",
       "    }\n",
       "\n",
       "    .dataframe tbody tr th {\n",
       "        vertical-align: top;\n",
       "    }\n",
       "\n",
       "    .dataframe thead th {\n",
       "        text-align: right;\n",
       "    }\n",
       "</style>\n",
       "<table border=\"1\" class=\"dataframe\">\n",
       "  <thead>\n",
       "    <tr style=\"text-align: right;\">\n",
       "      <th></th>\n",
       "      <th>Mes</th>\n",
       "      <th>Ventas</th>\n",
       "      <th>Unidades</th>\n",
       "    </tr>\n",
       "    <tr>\n",
       "      <th>Producto</th>\n",
       "      <th></th>\n",
       "      <th></th>\n",
       "      <th></th>\n",
       "    </tr>\n",
       "  </thead>\n",
       "  <tbody>\n",
       "    <tr>\n",
       "      <th>A</th>\n",
       "      <td>Enero</td>\n",
       "      <td>305</td>\n",
       "      <td>48</td>\n",
       "    </tr>\n",
       "    <tr>\n",
       "      <th>A</th>\n",
       "      <td>Febrero</td>\n",
       "      <td>489</td>\n",
       "      <td>21</td>\n",
       "    </tr>\n",
       "    <tr>\n",
       "      <th>B</th>\n",
       "      <td>Marzo</td>\n",
       "      <td>661</td>\n",
       "      <td>8</td>\n",
       "    </tr>\n",
       "    <tr>\n",
       "      <th>B</th>\n",
       "      <td>Enero</td>\n",
       "      <td>971</td>\n",
       "      <td>14</td>\n",
       "    </tr>\n",
       "    <tr>\n",
       "      <th>B</th>\n",
       "      <td>Febrero</td>\n",
       "      <td>921</td>\n",
       "      <td>47</td>\n",
       "    </tr>\n",
       "    <tr>\n",
       "      <th>B</th>\n",
       "      <td>Enero</td>\n",
       "      <td>501</td>\n",
       "      <td>25</td>\n",
       "    </tr>\n",
       "    <tr>\n",
       "      <th>C</th>\n",
       "      <td>Febrero</td>\n",
       "      <td>205</td>\n",
       "      <td>45</td>\n",
       "    </tr>\n",
       "    <tr>\n",
       "      <th>C</th>\n",
       "      <td>Febrero</td>\n",
       "      <td>871</td>\n",
       "      <td>18</td>\n",
       "    </tr>\n",
       "    <tr>\n",
       "      <th>C</th>\n",
       "      <td>Enero</td>\n",
       "      <td>576</td>\n",
       "      <td>24</td>\n",
       "    </tr>\n",
       "  </tbody>\n",
       "</table>\n",
       "</div>"
      ],
      "text/plain": [
       "              Mes  Ventas  Unidades\n",
       "Producto                           \n",
       "A           Enero     305        48\n",
       "A         Febrero     489        21\n",
       "B           Marzo     661         8\n",
       "B           Enero     971        14\n",
       "B         Febrero     921        47\n",
       "B           Enero     501        25\n",
       "C         Febrero     205        45\n",
       "C         Febrero     871        18\n",
       "C           Enero     576        24"
      ]
     },
     "execution_count": 5,
     "metadata": {},
     "output_type": "execute_result"
    }
   ],
   "source": [
    "# Acceso a datos específicos\n",
    "print(\"\\n📍 Acceso a datos del Centro:\")\n",
    "df_jerarquico.loc['Centro']"
   ]
  },
  {
   "cell_type": "code",
   "execution_count": 6,
   "id": "5cc3d1c9-fe82-4366-abe2-01bdb408447a",
   "metadata": {},
   "outputs": [
    {
     "name": "stdout",
     "output_type": "stream",
     "text": [
      "\n",
      "📍 Acceso específico - Centro, Producto A:\n"
     ]
    },
    {
     "data": {
      "text/html": [
       "<div>\n",
       "<style scoped>\n",
       "    .dataframe tbody tr th:only-of-type {\n",
       "        vertical-align: middle;\n",
       "    }\n",
       "\n",
       "    .dataframe tbody tr th {\n",
       "        vertical-align: top;\n",
       "    }\n",
       "\n",
       "    .dataframe thead th {\n",
       "        text-align: right;\n",
       "    }\n",
       "</style>\n",
       "<table border=\"1\" class=\"dataframe\">\n",
       "  <thead>\n",
       "    <tr style=\"text-align: right;\">\n",
       "      <th></th>\n",
       "      <th></th>\n",
       "      <th>Mes</th>\n",
       "      <th>Ventas</th>\n",
       "      <th>Unidades</th>\n",
       "    </tr>\n",
       "    <tr>\n",
       "      <th>Región</th>\n",
       "      <th>Producto</th>\n",
       "      <th></th>\n",
       "      <th></th>\n",
       "      <th></th>\n",
       "    </tr>\n",
       "  </thead>\n",
       "  <tbody>\n",
       "    <tr>\n",
       "      <th rowspan=\"2\" valign=\"top\">Centro</th>\n",
       "      <th>A</th>\n",
       "      <td>Enero</td>\n",
       "      <td>305</td>\n",
       "      <td>48</td>\n",
       "    </tr>\n",
       "    <tr>\n",
       "      <th>A</th>\n",
       "      <td>Febrero</td>\n",
       "      <td>489</td>\n",
       "      <td>21</td>\n",
       "    </tr>\n",
       "  </tbody>\n",
       "</table>\n",
       "</div>"
      ],
      "text/plain": [
       "                     Mes  Ventas  Unidades\n",
       "Región Producto                           \n",
       "Centro A           Enero     305        48\n",
       "       A         Febrero     489        21"
      ]
     },
     "execution_count": 6,
     "metadata": {},
     "output_type": "execute_result"
    }
   ],
   "source": [
    "print(\"\\n📍 Acceso específico - Centro, Producto A:\")\n",
    "df_jerarquico.loc[('Centro', 'A')]"
   ]
  },
  {
   "cell_type": "code",
   "execution_count": 7,
   "id": "63c04a6d-9f48-4ab6-b872-bdbe00a8c2f2",
   "metadata": {},
   "outputs": [
    {
     "name": "stdout",
     "output_type": "stream",
     "text": [
      "💰 Ventas totales por región:\n",
      "Región\n",
      "Centro    5500\n",
      "Norte     2225\n",
      "Sur       3387\n",
      "Name: Ventas, dtype: int64\n"
     ]
    }
   ],
   "source": [
    "# Agrupamiento básico por región\n",
    "print(\"💰 Ventas totales por región:\")\n",
    "ventas_region = df.groupby('Región')['Ventas'].sum()\n",
    "print(ventas_region)"
   ]
  },
  {
   "cell_type": "code",
   "execution_count": 8,
   "id": "a64a9df9-2dd7-4137-aa0c-8805e58b6824",
   "metadata": {},
   "outputs": [
    {
     "name": "stdout",
     "output_type": "stream",
     "text": [
      "\n",
      "📦 Estadísticas de unidades por producto:\n",
      "               mean  sum  count  min  max\n",
      "Producto                                 \n",
      "A         32.000000  192      6   15   48\n",
      "B         26.833333  161      6    8   47\n",
      "C         24.125000  193      8    1   45\n"
     ]
    }
   ],
   "source": [
    "print(\"\\n📦 Estadísticas de unidades por producto:\")\n",
    "stats_producto = df.groupby('Producto')['Unidades'].agg(['mean', 'sum', 'count', 'min', 'max'])\n",
    "print(stats_producto)"
   ]
  },
  {
   "cell_type": "code",
   "execution_count": 10,
   "id": "2dcb94b0-3cc6-4c56-bc59-5542861bf528",
   "metadata": {},
   "outputs": [
    {
     "name": "stdout",
     "output_type": "stream",
     "text": [
      "\n",
      "📅 Ventas promedio por mes:\n",
      "Mes\n",
      "Enero      543.71\n",
      "Febrero    686.17\n",
      "Marzo      455.57\n",
      "Name: Ventas, dtype: float64\n"
     ]
    }
   ],
   "source": [
    "print(\"\\n📅 Ventas promedio por mes:\")\n",
    "ventas_mes = df.groupby('Mes')['Ventas'].mean().round(2)\n",
    "print(ventas_mes)"
   ]
  },
  {
   "cell_type": "code",
   "execution_count": 11,
   "id": "535e94e5-ec98-48cc-af51-6fe632ae6d33",
   "metadata": {},
   "outputs": [
    {
     "name": "stdout",
     "output_type": "stream",
     "text": [
      "📊 Análisis completo por región:\n",
      "       Ventas               Unidades        \n",
      "          sum    mean count      sum max min\n",
      "Región                                      \n",
      "Centro   5500  611.11     9      250  48   8\n",
      "Norte    2225  445.00     5      145  41  15\n",
      "Sur      3387  564.50     6      151  45   1\n"
     ]
    }
   ],
   "source": [
    "# Aplicar múltiples funciones a la vez\n",
    "print(\"📊 Análisis completo por región:\")\n",
    "analisis_region = df.groupby('Región').agg({\n",
    "    'Ventas': ['sum', 'mean', 'count'],\n",
    "    'Unidades': ['sum', 'max', 'min']\n",
    "}).round(2)\n",
    "print(analisis_region)"
   ]
  },
  {
   "cell_type": "code",
   "execution_count": 12,
   "id": "b546e2ab-815f-4542-9807-1f4702988ba1",
   "metadata": {},
   "outputs": [
    {
     "name": "stdout",
     "output_type": "stream",
     "text": [
      "\n",
      "📈 Resumen por producto:\n",
      "         Ventas         Unidades\n",
      "            sum    mean      sum\n",
      "Producto                        \n",
      "A          1931  321.83      192\n",
      "B          4511  751.83      161\n",
      "C          4670  583.75      193\n"
     ]
    }
   ],
   "source": [
    "print(\"\\n📈 Resumen por producto:\")\n",
    "resumen_producto = df.groupby('Producto').agg({\n",
    "    'Ventas': ['sum', 'mean'],\n",
    "    'Unidades': 'sum'\n",
    "}).round(2)\n",
    "print(resumen_producto)"
   ]
  },
  {
   "cell_type": "markdown",
   "id": "688d6d09-69ed-47e6-b288-2a3e0c3a1283",
   "metadata": {},
   "source": [
    "**Pivoteo de datos**"
   ]
  },
  {
   "cell_type": "code",
   "execution_count": 13,
   "id": "3aee973d-aab8-4b16-a27b-29a080f42d58",
   "metadata": {},
   "outputs": [
    {
     "name": "stdout",
     "output_type": "stream",
     "text": [
      "🔄 Tabla pivote - Ventas por Región y Producto:\n",
      "Producto    A     B     C\n",
      "Región                   \n",
      "Centro    794  3054  1652\n",
      "Norte     768  1457     0\n",
      "Sur       369     0  3018\n"
     ]
    }
   ],
   "source": [
    "# Crear tabla pivote: Regiones vs Productos (suma de ventas)\n",
    "print(\"🔄 Tabla pivote - Ventas por Región y Producto:\")\n",
    "pivot_ventas = df.groupby(['Región', 'Producto'])['Ventas'].sum().unstack(fill_value=0)\n",
    "print(pivot_ventas)"
   ]
  },
  {
   "cell_type": "code",
   "execution_count": 14,
   "id": "3cfe16ef-d9f7-4807-b9d6-af0ebf312c89",
   "metadata": {},
   "outputs": [
    {
     "name": "stdout",
     "output_type": "stream",
     "text": [
      "\n",
      "🔄 Tabla pivote - Unidades por Mes y Región:\n",
      "Región   Centro  Norte  Sur\n",
      "Mes                        \n",
      "Enero       111     23   31\n",
      "Febrero     131     26   45\n",
      "Marzo         8     96   75\n"
     ]
    }
   ],
   "source": [
    "print(\"\\n🔄 Tabla pivote - Unidades por Mes y Región:\")\n",
    "pivot_unidades = df.groupby(['Mes', 'Región'])['Unidades'].sum().unstack(fill_value=0)\n",
    "print(pivot_unidades)"
   ]
  },
  {
   "cell_type": "markdown",
   "id": "8ffb33b0-4c6a-4b31-ab80-491c0c0b6a3b",
   "metadata": {},
   "source": [
    "**Despivoteo de datos**"
   ]
  },
  {
   "cell_type": "code",
   "execution_count": 15,
   "id": "d8d20fea-3a27-4a9b-a24b-dc617e1c1325",
   "metadata": {},
   "outputs": [
    {
     "name": "stdout",
     "output_type": "stream",
     "text": [
      "🔄 Despivoteo de la tabla de ventas:\n",
      "   Región Producto  Ventas_Total\n",
      "0  Centro        A           794\n",
      "1   Norte        A           768\n",
      "2     Sur        A           369\n",
      "3  Centro        B          3054\n",
      "4   Norte        B          1457\n",
      "6  Centro        C          1652\n",
      "8     Sur        C          3018\n"
     ]
    }
   ],
   "source": [
    "# Despivotear la tabla anterior\n",
    "print(\"🔄 Despivoteo de la tabla de ventas:\")\n",
    "df_melted = pivot_ventas.reset_index().melt(\n",
    "    id_vars=['Región'],\n",
    "    var_name='Producto',\n",
    "    value_name='Ventas_Total'\n",
    ")\n",
    "print(df_melted[df_melted['Ventas_Total'] > 0])  # Solo mostrar valores > 0"
   ]
  },
  {
   "cell_type": "code",
   "execution_count": 16,
   "id": "5e6e2492-1e73-40de-a084-f1b5531d8132",
   "metadata": {},
   "outputs": [
    {
     "name": "stdout",
     "output_type": "stream",
     "text": [
      "\n",
      "🔄 Despivoteo completo del DataFrame original:\n",
      "   Región Producto      Mes Métrica  Valor\n",
      "0  Centro        A    Enero  Ventas    305\n",
      "1   Norte        A    Marzo  Ventas    180\n",
      "2  Centro        B    Marzo  Ventas    661\n",
      "3  Centro        B    Enero  Ventas    971\n",
      "4   Norte        A    Enero  Ventas    487\n",
      "5   Norte        A    Marzo  Ventas    101\n",
      "6  Centro        A  Febrero  Ventas    489\n",
      "7     Sur        C    Enero  Ventas    665\n"
     ]
    }
   ],
   "source": [
    "print(\"\\n🔄 Despivoteo completo del DataFrame original:\")\n",
    "df_melt_completo = df.melt(\n",
    "    id_vars=['Región', 'Producto', 'Mes'],\n",
    "    value_vars=['Ventas', 'Unidades'],\n",
    "    var_name='Métrica',\n",
    "    value_name='Valor'\n",
    ")\n",
    "print(df_melt_completo.head(8))"
   ]
  },
  {
   "cell_type": "markdown",
   "id": "65896027-e93e-4c85-9c9a-4f2f4710b0b6",
   "metadata": {},
   "source": [
    "**Combinación de datos**"
   ]
  },
  {
   "cell_type": "code",
   "execution_count": 17,
   "id": "c99ddeea-7ffe-4394-b197-9b2e249a172a",
   "metadata": {},
   "outputs": [
    {
     "name": "stdout",
     "output_type": "stream",
     "text": [
      "DataFrame 1 (Centro):\n",
      "   Región Producto  Ventas\n",
      "0  Centro        A     305\n",
      "2  Centro        B     661\n",
      "3  Centro        B     971\n",
      "\n",
      "DataFrame 2 (Norte):\n",
      "  Región Producto  Ventas\n",
      "1  Norte        A     180\n",
      "4  Norte        A     487\n",
      "5  Norte        A     101\n"
     ]
    }
   ],
   "source": [
    "# Crear DataFrames adicionales para demostrar combinaciones\n",
    "df1 = df[df['Región'] == 'Centro'][['Región', 'Producto', 'Ventas']].head(3)\n",
    "df2 = df[df['Región'] == 'Norte'][['Región', 'Producto', 'Ventas']].head(3)\n",
    "\n",
    "print(\"DataFrame 1 (Centro):\")\n",
    "print(df1)\n",
    "print(\"\\nDataFrame 2 (Norte):\")\n",
    "print(df2)"
   ]
  },
  {
   "cell_type": "code",
   "execution_count": 18,
   "id": "9538a900-2c6a-481f-8776-2cb8c942b318",
   "metadata": {},
   "outputs": [
    {
     "name": "stdout",
     "output_type": "stream",
     "text": [
      "\n",
      "CONCATENACIÓN con concat():\n",
      "   Región Producto  Ventas\n",
      "0  Centro        A     305\n",
      "1  Centro        B     661\n",
      "2  Centro        B     971\n",
      "3   Norte        A     180\n",
      "4   Norte        A     487\n",
      "5   Norte        A     101\n"
     ]
    }
   ],
   "source": [
    "# CONCATENACIÓN\n",
    "print(\"\\nCONCATENACIÓN con concat():\")\n",
    "df_concat = pd.concat([df1, df2], ignore_index=True)\n",
    "print(df_concat)"
   ]
  },
  {
   "cell_type": "code",
   "execution_count": 19,
   "id": "54a03214-24ba-4e93-a6e0-6276a668e3a9",
   "metadata": {},
   "outputs": [
    {
     "name": "stdout",
     "output_type": "stream",
     "text": [
      "DataFrame de información de productos:\n",
      "  Producto     Categoría  Precio_Unitario\n",
      "0        A  Electrónicos            25.50\n",
      "1        B          Ropa            80.00\n",
      "2        C         Hogar            45.75\n"
     ]
    }
   ],
   "source": [
    "# Crear DataFrame de información adicional para merge\n",
    "info_productos = pd.DataFrame({\n",
    "    'Producto': ['A', 'B', 'C'],\n",
    "    'Categoría': ['Electrónicos', 'Ropa', 'Hogar'],\n",
    "    'Precio_Unitario': [25.50, 80.00, 45.75]\n",
    "})\n",
    "\n",
    "print(\"DataFrame de información de productos:\")\n",
    "print(info_productos)"
   ]
  },
  {
   "cell_type": "code",
   "execution_count": 20,
   "id": "ee4c598d-34ce-42d6-aa01-aed19fc54d50",
   "metadata": {},
   "outputs": [
    {
     "name": "stdout",
     "output_type": "stream",
     "text": [
      "\n",
      "MERGE - Unión INNER:\n",
      "   Región Producto  Ventas     Categoría  Precio_Unitario\n",
      "0  Centro        A     305  Electrónicos             25.5\n",
      "1   Norte        A     180  Electrónicos             25.5\n",
      "2  Centro        B     661          Ropa             80.0\n",
      "3  Centro        B     971          Ropa             80.0\n",
      "4   Norte        A     487  Electrónicos             25.5\n"
     ]
    }
   ],
   "source": [
    "# MERGE - diferentes tipos de uniones\n",
    "print(\"\\nMERGE - Unión INNER:\")\n",
    "df_inner = df.merge(info_productos, on='Producto', how='inner')\n",
    "print(df_inner[['Región', 'Producto', 'Ventas', 'Categoría', 'Precio_Unitario']].head(5))"
   ]
  },
  {
   "cell_type": "code",
   "execution_count": 21,
   "id": "e1e65364-e5bd-4737-adf1-664e116aeeaa",
   "metadata": {},
   "outputs": [
    {
     "name": "stdout",
     "output_type": "stream",
     "text": [
      "\n",
      "MERGE - Unión LEFT:\n",
      "Filas originales: 20, Filas después del merge: 20\n"
     ]
    }
   ],
   "source": [
    "print(\"\\nMERGE - Unión LEFT:\")\n",
    "df_left = df.merge(info_productos, on='Producto', how='left')\n",
    "print(f\"Filas originales: {len(df)}, Filas después del merge: {len(df_left)}\")"
   ]
  },
  {
   "cell_type": "code",
   "execution_count": 22,
   "id": "79f67aa9-6ea2-4646-811e-143973f7d6b9",
   "metadata": {},
   "outputs": [
    {
     "name": "stdout",
     "output_type": "stream",
     "text": [
      "\n",
      "EJEMPLO PRÁCTICO - Cálculo de ingresos:\n"
     ]
    },
    {
     "data": {
      "text/html": [
       "<div>\n",
       "<style scoped>\n",
       "    .dataframe tbody tr th:only-of-type {\n",
       "        vertical-align: middle;\n",
       "    }\n",
       "\n",
       "    .dataframe tbody tr th {\n",
       "        vertical-align: top;\n",
       "    }\n",
       "\n",
       "    .dataframe thead th {\n",
       "        text-align: right;\n",
       "    }\n",
       "</style>\n",
       "<table border=\"1\" class=\"dataframe\">\n",
       "  <thead>\n",
       "    <tr style=\"text-align: right;\">\n",
       "      <th></th>\n",
       "      <th>Región</th>\n",
       "      <th>Producto</th>\n",
       "      <th>Mes</th>\n",
       "      <th>Ventas</th>\n",
       "      <th>Unidades</th>\n",
       "      <th>Precio_Unitario</th>\n",
       "      <th>Ingresos_Calculados</th>\n",
       "    </tr>\n",
       "  </thead>\n",
       "  <tbody>\n",
       "    <tr>\n",
       "      <th>0</th>\n",
       "      <td>Centro</td>\n",
       "      <td>A</td>\n",
       "      <td>Enero</td>\n",
       "      <td>305</td>\n",
       "      <td>48</td>\n",
       "      <td>25.5</td>\n",
       "      <td>1224.0</td>\n",
       "    </tr>\n",
       "    <tr>\n",
       "      <th>1</th>\n",
       "      <td>Norte</td>\n",
       "      <td>A</td>\n",
       "      <td>Marzo</td>\n",
       "      <td>180</td>\n",
       "      <td>15</td>\n",
       "      <td>25.5</td>\n",
       "      <td>382.5</td>\n",
       "    </tr>\n",
       "    <tr>\n",
       "      <th>2</th>\n",
       "      <td>Centro</td>\n",
       "      <td>B</td>\n",
       "      <td>Marzo</td>\n",
       "      <td>661</td>\n",
       "      <td>8</td>\n",
       "      <td>80.0</td>\n",
       "      <td>640.0</td>\n",
       "    </tr>\n",
       "    <tr>\n",
       "      <th>3</th>\n",
       "      <td>Centro</td>\n",
       "      <td>B</td>\n",
       "      <td>Enero</td>\n",
       "      <td>971</td>\n",
       "      <td>14</td>\n",
       "      <td>80.0</td>\n",
       "      <td>1120.0</td>\n",
       "    </tr>\n",
       "    <tr>\n",
       "      <th>4</th>\n",
       "      <td>Norte</td>\n",
       "      <td>A</td>\n",
       "      <td>Enero</td>\n",
       "      <td>487</td>\n",
       "      <td>23</td>\n",
       "      <td>25.5</td>\n",
       "      <td>586.5</td>\n",
       "    </tr>\n",
       "  </tbody>\n",
       "</table>\n",
       "</div>"
      ],
      "text/plain": [
       "   Región Producto    Mes  Ventas  Unidades  Precio_Unitario  \\\n",
       "0  Centro        A  Enero     305        48             25.5   \n",
       "1   Norte        A  Marzo     180        15             25.5   \n",
       "2  Centro        B  Marzo     661         8             80.0   \n",
       "3  Centro        B  Enero     971        14             80.0   \n",
       "4   Norte        A  Enero     487        23             25.5   \n",
       "\n",
       "   Ingresos_Calculados  \n",
       "0               1224.0  \n",
       "1                382.5  \n",
       "2                640.0  \n",
       "3               1120.0  \n",
       "4                586.5  "
      ]
     },
     "execution_count": 22,
     "metadata": {},
     "output_type": "execute_result"
    }
   ],
   "source": [
    "# Ejemplo práctico: Calcular ingresos totales\n",
    "print(\"\\nEJEMPLO PRÁCTICO - Cálculo de ingresos:\")\n",
    "df_ingresos = df.merge(info_productos, on='Producto', how='left')\n",
    "df_ingresos['Ingresos_Calculados'] = df_ingresos['Unidades'] * df_ingresos['Precio_Unitario']\n",
    "df_ingresos[['Región', 'Producto', 'Mes', 'Ventas', 'Unidades', 'Precio_Unitario', 'Ingresos_Calculados']].head()"
   ]
  },
  {
   "cell_type": "code",
   "execution_count": null,
   "id": "10169acf-c821-45b4-b94c-b70a24ad9cca",
   "metadata": {},
   "outputs": [],
   "source": []
  }
 ],
 "metadata": {
  "kernelspec": {
   "display_name": "Python 3 (ipykernel)",
   "language": "python",
   "name": "python3"
  },
  "language_info": {
   "codemirror_mode": {
    "name": "ipython",
    "version": 3
   },
   "file_extension": ".py",
   "mimetype": "text/x-python",
   "name": "python",
   "nbconvert_exporter": "python",
   "pygments_lexer": "ipython3",
   "version": "3.12.7"
  }
 },
 "nbformat": 4,
 "nbformat_minor": 5
}
